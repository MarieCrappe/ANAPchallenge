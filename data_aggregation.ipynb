{
 "cells": [
  {
   "cell_type": "markdown",
   "metadata": {},
   "source": [
    "# Traitement des données des fichiers Excel hospidiag\n",
    "\n",
    "#### Pré-requis : convertir toutes les tabs hospidiag en fichiers csv, en utilisant l'encodage UTF-8"
   ]
  },
  {
   "cell_type": "code",
   "execution_count": 29,
   "metadata": {
    "collapsed": true
   },
   "outputs": [],
   "source": [
    "import pandas as pd\n",
    "import re \n",
    "\n",
    "missing_values_mapping = {'.z' : -2000, '.c' : -1000, '.m' : -100}\n",
    "\n",
    "def mapping(x):\n",
    "    try:\n",
    "        return missing_values_mapping[x]\n",
    "    except:\n",
    "        return x\n",
    "    \n",
    "def format_decimal(x):\n",
    "    return x.replace(',','.')"
   ]
  },
  {
   "cell_type": "code",
   "execution_count": 47,
   "metadata": {
    "collapsed": false,
    "scrolled": true
   },
   "outputs": [
    {
     "name": "stdout",
     "output_type": "stream",
     "text": [
      "Année 2008 traitée\n",
      "Année 2009 traitée\n",
      "Année 2010 traitée\n",
      "Année 2011 traitée\n",
      "Année 2012 traitée\n",
      "Année 2013 traitée\n"
     ]
    }
   ],
   "source": [
    "# Nous n'avons pas besoin de 2015 et 2016 qui sont dans le test set\n",
    "years = [str(i) for i in range(2008, 2014)]\n",
    "\n",
    "aggregated_dataframes = {}\n",
    "\n",
    "for y in years:\n",
    "    df = pd.read_csv('../data/hospidiag_opendata_' + y + '.csv', encoding='utf-8', sep=';')\n",
    "\n",
    "    for col in df.columns:\n",
    "        df[col] = df[col].map(mapping)\n",
    "        \n",
    "    for col in ['A7', 'A8', 'A9', 'A10', 'A11', 'A12', 'A13', 'A14', 'A15']:\n",
    "        df[col] = df[col].map(str)\n",
    "        df[col] = df[col].map(format_decimal).fillna(-3000).map(float)\n",
    "    \n",
    "    df.fillna(-3000, inplace=True)\n",
    "    df['annee'] = y\n",
    "    aggregated_dataframes[y] = df\n",
    "    print('Année', y, 'traitée')\n",
    "\n",
    "result = pd.concat(aggregated_dataframes)\n",
    "result.to_csv('../data/aggregated_hospidiag_data.csv', encoding='utf-8', sep=';')"
   ]
  },
  {
   "cell_type": "code",
   "execution_count": 48,
   "metadata": {
    "collapsed": false
   },
   "outputs": [
    {
     "data": {
      "text/plain": [
       "407"
      ]
     },
     "execution_count": 48,
     "metadata": {},
     "output_type": "execute_result"
    }
   ],
   "source": [
    "import gc\n",
    "del aggregated_dataframes\n",
    "gc.collect()"
   ]
  },
  {
   "cell_type": "code",
   "execution_count": 49,
   "metadata": {
    "collapsed": false
   },
   "outputs": [
    {
     "data": {
      "text/plain": [
       "array(['A10', 'A11', 'A12', 'A13', 'A14', 'A15', 'A7', 'A8', 'A9', 'CI_A1',\n",
       "       'CI_A10', 'CI_A11', 'CI_A12', 'CI_A14', 'CI_A15', 'CI_A2', 'CI_A3',\n",
       "       'CI_A4', 'CI_A5', 'CI_A6', 'CI_A7', 'CI_A8', 'CI_A9', 'CI_AC1',\n",
       "       'CI_AC2', 'CI_AC3', 'CI_AC4', 'CI_AC5', 'CI_AC6', 'CI_AC7',\n",
       "       'CI_AC8', 'CI_AC9', 'CI_DF1', 'CI_DF2', 'CI_DF3', 'CI_DF4',\n",
       "       'CI_DF5', 'CI_E1', 'CI_E2', 'CI_E3', 'CI_E4', 'CI_E4_V2', 'CI_E5',\n",
       "       'CI_E6', 'CI_E7', 'CI_E7_V2', 'CI_F10_D', 'CI_F10_O', 'CI_F11_D',\n",
       "       'CI_F11_O', 'CI_F12_D', 'CI_F12_O', 'CI_F13_D', 'CI_F13_O',\n",
       "       'CI_F14_D', 'CI_F14_O', 'CI_F15_D', 'CI_F15_O', 'CI_F16_D',\n",
       "       'CI_F16_O', 'CI_F1_D', 'CI_F1_O', 'CI_F2_D', 'CI_F2_O', 'CI_F3_D',\n",
       "       'CI_F3_O', 'CI_F4_D', 'CI_F4_O', 'CI_F5_D', 'CI_F5_O', 'CI_F6_D',\n",
       "       'CI_F6_O', 'CI_F7_D', 'CI_F7_O', 'CI_F8_D', 'CI_F8_O', 'CI_F9_D',\n",
       "       'CI_F9_O', 'P8', 'P8new', 'P9', 'RH1'], dtype=object)"
      ]
     },
     "execution_count": 49,
     "metadata": {},
     "output_type": "execute_result"
    }
   ],
   "source": [
    "result.describe().columns.values"
   ]
  },
  {
   "cell_type": "code",
   "execution_count": 50,
   "metadata": {
    "collapsed": false
   },
   "outputs": [
    {
     "data": {
      "text/plain": [
       "Index(['A10', 'A11', 'A12', 'A13', 'A14', 'A15', 'A7', 'A8', 'A9', 'CI_A1',\n",
       "       ...\n",
       "       'annee', 'cat', 'champ_pmsi', 'finess', 'rs', 'taa', 'taille_C',\n",
       "       'taille_M', 'taille_MCO', 'taille_O'],\n",
       "      dtype='object', length=179)"
      ]
     },
     "execution_count": 50,
     "metadata": {},
     "output_type": "execute_result"
    }
   ],
   "source": [
    "result.columns"
   ]
  },
  {
   "cell_type": "code",
   "execution_count": 52,
   "metadata": {
    "collapsed": false
   },
   "outputs": [
    {
     "data": {
      "text/plain": [
       "A10           float64\n",
       "A11           float64\n",
       "A12           float64\n",
       "A13           float64\n",
       "A14           float64\n",
       "A15           float64\n",
       "A7            float64\n",
       "A8            float64\n",
       "A9            float64\n",
       "CI_A1         float64\n",
       "CI_A10        float64\n",
       "CI_A11        float64\n",
       "CI_A12        float64\n",
       "CI_A13         object\n",
       "CI_A14        float64\n",
       "CI_A15        float64\n",
       "CI_A16_1       object\n",
       "CI_A16_2       object\n",
       "CI_A16_3       object\n",
       "CI_A16_4       object\n",
       "CI_A16_5       object\n",
       "CI_A16_6       object\n",
       "CI_A17_1       object\n",
       "CI_A17_2       object\n",
       "CI_A17_3       object\n",
       "CI_A17_4       object\n",
       "CI_A17_5       object\n",
       "CI_A18_1       object\n",
       "CI_A18_2       object\n",
       "CI_A18_3       object\n",
       "               ...   \n",
       "Q1             object\n",
       "Q10            object\n",
       "Q11            object\n",
       "Q2             object\n",
       "Q3             object\n",
       "Q4             object\n",
       "Q5             object\n",
       "Q6             object\n",
       "Q7             object\n",
       "Q8             object\n",
       "Q9             object\n",
       "RH1           float64\n",
       "RH10           object\n",
       "RH2            object\n",
       "RH3            object\n",
       "RH4            object\n",
       "RH5            object\n",
       "RH6            object\n",
       "RH8            object\n",
       "RH9            object\n",
       "annee          object\n",
       "cat            object\n",
       "champ_pmsi     object\n",
       "finess         object\n",
       "rs             object\n",
       "taa            object\n",
       "taille_C       object\n",
       "taille_M       object\n",
       "taille_MCO     object\n",
       "taille_O       object\n",
       "dtype: object"
      ]
     },
     "execution_count": 52,
     "metadata": {},
     "output_type": "execute_result"
    }
   ],
   "source": [
    "result.dtypes"
   ]
  },
  {
   "cell_type": "code",
   "execution_count": 53,
   "metadata": {
    "collapsed": false
   },
   "outputs": [],
   "source": [
    "reduced_result = result[['A7', 'A8', 'A9', 'A10', 'A11', 'A12', 'A13', 'A14', 'A15',\n",
    "                        'CI_A1', 'CI_A10', 'CI_A11', 'CI_A12', 'CI_A14', 'CI_A15', 'CI_A2',\n",
    "                        'CI_A3', 'CI_A4', 'CI_A5', 'CI_A6', 'CI_A7', 'CI_A8', 'CI_A9',\n",
    "                        'CI_AC1', 'CI_AC2', 'CI_AC3', 'CI_AC4', 'CI_AC5', 'CI_AC6',\n",
    "                        'CI_AC7', 'CI_AC8', 'CI_AC9', 'CI_DF1', 'CI_DF2', 'CI_DF3',\n",
    "                        'CI_DF4', 'CI_DF5', 'CI_E1', 'CI_E2', 'CI_E3', 'CI_E4', 'CI_E4_V2',\n",
    "                        'CI_E5', 'CI_E6', 'CI_E7', 'CI_E7_V2', 'CI_F10_D', 'CI_F10_O',\n",
    "                        'CI_F11_D', 'CI_F11_O', 'CI_F12_D', 'CI_F12_O', 'CI_F13_D',\n",
    "                        'CI_F13_O', 'CI_F14_D', 'CI_F14_O', 'CI_F15_D', 'CI_F15_O',\n",
    "                        'CI_F16_D', 'CI_F16_O', 'CI_F1_D', 'CI_F1_O', 'CI_F2_D', 'CI_F2_O',\n",
    "                        'CI_F3_D', 'CI_F3_O', 'CI_F4_D', 'CI_F4_O', 'CI_F5_D', 'CI_F5_O',\n",
    "                        'CI_F6_D', 'CI_F6_O', 'CI_F7_D', 'CI_F7_O', 'CI_F8_D', 'CI_F8_O',\n",
    "                        'CI_F9_D', 'CI_F9_O', 'P8', 'P8new', 'P9', 'RH1', 'finess', 'annee', 'cat']]"
   ]
  },
  {
   "cell_type": "code",
   "execution_count": 54,
   "metadata": {
    "collapsed": false
   },
   "outputs": [
    {
     "name": "stderr",
     "output_type": "stream",
     "text": [
      "C:\\Users\\MC731340\\AppData\\Local\\Continuum\\Anaconda3\\lib\\site-packages\\pandas\\core\\generic.py:2701: SettingWithCopyWarning: \n",
      "A value is trying to be set on a copy of a slice from a DataFrame.\n",
      "Try using .loc[row_indexer,col_indexer] = value instead\n",
      "\n",
      "See the caveats in the documentation: http://pandas.pydata.org/pandas-docs/stable/indexing.html#indexing-view-versus-copy\n",
      "  self[name] = value\n"
     ]
    },
    {
     "data": {
      "text/html": [
       "<div>\n",
       "<table border=\"1\" class=\"dataframe\">\n",
       "  <thead>\n",
       "    <tr style=\"text-align: right;\">\n",
       "      <th></th>\n",
       "      <th></th>\n",
       "      <th>A7</th>\n",
       "      <th>A8</th>\n",
       "      <th>A9</th>\n",
       "      <th>A10</th>\n",
       "      <th>A11</th>\n",
       "      <th>A12</th>\n",
       "      <th>A13</th>\n",
       "      <th>A14</th>\n",
       "      <th>A15</th>\n",
       "      <th>CI_A1</th>\n",
       "      <th>...</th>\n",
       "      <th>CI_F8_O</th>\n",
       "      <th>CI_F9_D</th>\n",
       "      <th>CI_F9_O</th>\n",
       "      <th>P8</th>\n",
       "      <th>P8new</th>\n",
       "      <th>P9</th>\n",
       "      <th>RH1</th>\n",
       "      <th>finess</th>\n",
       "      <th>annee</th>\n",
       "      <th>cat</th>\n",
       "    </tr>\n",
       "  </thead>\n",
       "  <tbody>\n",
       "    <tr>\n",
       "      <th rowspan=\"5\" valign=\"top\">2008</th>\n",
       "      <th>0</th>\n",
       "      <td>-1000.0</td>\n",
       "      <td>0.00</td>\n",
       "      <td>0.00</td>\n",
       "      <td>-2000.0</td>\n",
       "      <td>-2000.0</td>\n",
       "      <td>-3000.0</td>\n",
       "      <td>-3000.0</td>\n",
       "      <td>-3000.0</td>\n",
       "      <td>-3000.0</td>\n",
       "      <td>0.0</td>\n",
       "      <td>...</td>\n",
       "      <td>-2000.0</td>\n",
       "      <td>-3000.0</td>\n",
       "      <td>53553.0</td>\n",
       "      <td>-3000.0</td>\n",
       "      <td>-3000.0</td>\n",
       "      <td>108.0</td>\n",
       "      <td>-3000.0</td>\n",
       "      <td>010007300</td>\n",
       "      <td>2008</td>\n",
       "      <td>3</td>\n",
       "    </tr>\n",
       "    <tr>\n",
       "      <th>1</th>\n",
       "      <td>-1000.0</td>\n",
       "      <td>5.03</td>\n",
       "      <td>12.58</td>\n",
       "      <td>-2000.0</td>\n",
       "      <td>-2000.0</td>\n",
       "      <td>0.0</td>\n",
       "      <td>67.2</td>\n",
       "      <td>-3000.0</td>\n",
       "      <td>-3000.0</td>\n",
       "      <td>158.0</td>\n",
       "      <td>...</td>\n",
       "      <td>-3000.0</td>\n",
       "      <td>-3000.0</td>\n",
       "      <td>-3000.0</td>\n",
       "      <td>-3000.0</td>\n",
       "      <td>-3000.0</td>\n",
       "      <td>-3000.0</td>\n",
       "      <td>-3000.0</td>\n",
       "      <td>010007987</td>\n",
       "      <td>2008</td>\n",
       "      <td>0</td>\n",
       "    </tr>\n",
       "    <tr>\n",
       "      <th>2</th>\n",
       "      <td>-1000.0</td>\n",
       "      <td>0.76</td>\n",
       "      <td>3.97</td>\n",
       "      <td>-2000.0</td>\n",
       "      <td>-2000.0</td>\n",
       "      <td>0.0</td>\n",
       "      <td>87.7</td>\n",
       "      <td>79.4</td>\n",
       "      <td>56.2</td>\n",
       "      <td>4269.0</td>\n",
       "      <td>...</td>\n",
       "      <td>-3000.0</td>\n",
       "      <td>-3000.0</td>\n",
       "      <td>-3000.0</td>\n",
       "      <td>1064456.0</td>\n",
       "      <td>-3000.0</td>\n",
       "      <td>187335.0</td>\n",
       "      <td>39.0</td>\n",
       "      <td>010008407</td>\n",
       "      <td>2008</td>\n",
       "      <td>0</td>\n",
       "    </tr>\n",
       "    <tr>\n",
       "      <th>3</th>\n",
       "      <td>-1000.0</td>\n",
       "      <td>1.98</td>\n",
       "      <td>7.67</td>\n",
       "      <td>-2000.0</td>\n",
       "      <td>-2000.0</td>\n",
       "      <td>44.8</td>\n",
       "      <td>79.9</td>\n",
       "      <td>78.4</td>\n",
       "      <td>61.4</td>\n",
       "      <td>13685.0</td>\n",
       "      <td>...</td>\n",
       "      <td>-3000.0</td>\n",
       "      <td>-3000.0</td>\n",
       "      <td>-3000.0</td>\n",
       "      <td>735002.0</td>\n",
       "      <td>-3000.0</td>\n",
       "      <td>208714.0</td>\n",
       "      <td>39.0</td>\n",
       "      <td>010780054</td>\n",
       "      <td>2008</td>\n",
       "      <td>0</td>\n",
       "    </tr>\n",
       "    <tr>\n",
       "      <th>4</th>\n",
       "      <td>-1000.0</td>\n",
       "      <td>0.69</td>\n",
       "      <td>6.04</td>\n",
       "      <td>-2000.0</td>\n",
       "      <td>-2000.0</td>\n",
       "      <td>36.0</td>\n",
       "      <td>71.8</td>\n",
       "      <td>74.0</td>\n",
       "      <td>65.1</td>\n",
       "      <td>4233.0</td>\n",
       "      <td>...</td>\n",
       "      <td>-3000.0</td>\n",
       "      <td>-3000.0</td>\n",
       "      <td>-3000.0</td>\n",
       "      <td>438670.0</td>\n",
       "      <td>-3000.0</td>\n",
       "      <td>209990.0</td>\n",
       "      <td>46.0</td>\n",
       "      <td>010780062</td>\n",
       "      <td>2008</td>\n",
       "      <td>0</td>\n",
       "    </tr>\n",
       "  </tbody>\n",
       "</table>\n",
       "<p>5 rows × 85 columns</p>\n",
       "</div>"
      ],
      "text/plain": [
       "            A7    A8     A9     A10     A11     A12     A13     A14     A15  \\\n",
       "2008 0 -1000.0  0.00   0.00 -2000.0 -2000.0 -3000.0 -3000.0 -3000.0 -3000.0   \n",
       "     1 -1000.0  5.03  12.58 -2000.0 -2000.0     0.0    67.2 -3000.0 -3000.0   \n",
       "     2 -1000.0  0.76   3.97 -2000.0 -2000.0     0.0    87.7    79.4    56.2   \n",
       "     3 -1000.0  1.98   7.67 -2000.0 -2000.0    44.8    79.9    78.4    61.4   \n",
       "     4 -1000.0  0.69   6.04 -2000.0 -2000.0    36.0    71.8    74.0    65.1   \n",
       "\n",
       "          CI_A1 ...   CI_F8_O  CI_F9_D  CI_F9_O         P8   P8new        P9  \\\n",
       "2008 0      0.0 ...   -2000.0  -3000.0  53553.0    -3000.0 -3000.0     108.0   \n",
       "     1    158.0 ...   -3000.0  -3000.0  -3000.0    -3000.0 -3000.0   -3000.0   \n",
       "     2   4269.0 ...   -3000.0  -3000.0  -3000.0  1064456.0 -3000.0  187335.0   \n",
       "     3  13685.0 ...   -3000.0  -3000.0  -3000.0   735002.0 -3000.0  208714.0   \n",
       "     4   4233.0 ...   -3000.0  -3000.0  -3000.0   438670.0 -3000.0  209990.0   \n",
       "\n",
       "           RH1     finess  annee  cat  \n",
       "2008 0 -3000.0  010007300   2008    3  \n",
       "     1 -3000.0  010007987   2008    0  \n",
       "     2    39.0  010008407   2008    0  \n",
       "     3    39.0  010780054   2008    0  \n",
       "     4    46.0  010780062   2008    0  \n",
       "\n",
       "[5 rows x 85 columns]"
      ]
     },
     "execution_count": 54,
     "metadata": {},
     "output_type": "execute_result"
    }
   ],
   "source": [
    "from sklearn import preprocessing\n",
    "le = preprocessing.LabelEncoder()\n",
    "reduced_result.cat = le.fit_transform(reduced_result.cat)\n",
    "reduced_result.head()"
   ]
  },
  {
   "cell_type": "code",
   "execution_count": 43,
   "metadata": {
    "collapsed": true
   },
   "outputs": [],
   "source": [
    "reduced_result.to_csv('../data/aggregated_hospidiag_data_reduced.csv', encoding='utf-8', sep=';')"
   ]
  }
 ],
 "metadata": {
  "anaconda-cloud": {},
  "kernelspec": {
   "display_name": "Python [default]",
   "language": "python",
   "name": "python3"
  },
  "language_info": {
   "codemirror_mode": {
    "name": "ipython",
    "version": 3
   },
   "file_extension": ".py",
   "mimetype": "text/x-python",
   "name": "python",
   "nbconvert_exporter": "python",
   "pygments_lexer": "ipython3",
   "version": "3.5.2"
  }
 },
 "nbformat": 4,
 "nbformat_minor": 0
}
