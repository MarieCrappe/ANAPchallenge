{
 "cells": [
  {
   "cell_type": "markdown",
   "metadata": {},
   "source": [
    "# Traitement des données des fichiers Excel hospidiag\n",
    "\n",
    "#### Pré-requis : convertir toutes les tabs hospidiag en fichiers csv, en utilisant l'encodage UTF-8"
   ]
  },
  {
   "cell_type": "code",
   "execution_count": 36,
   "metadata": {
    "collapsed": true
   },
   "outputs": [],
   "source": [
    "import pandas as pd\n",
    "\n",
    "missing_values_mapping = {'.z' : -3, '.c' : -2, '.m' : -1}\n",
    "\n",
    "def mapping(x):\n",
    "    try:\n",
    "        return missing_values_mapping[x]\n",
    "    except:\n",
    "        return x"
   ]
  },
  {
   "cell_type": "code",
   "execution_count": 37,
   "metadata": {
    "collapsed": false,
    "scrolled": true
   },
   "outputs": [
    {
     "name": "stdout",
     "output_type": "stream",
     "text": [
      "Année 2008 traitée\n",
      "Année 2009 traitée\n",
      "Année 2010 traitée\n",
      "Année 2011 traitée\n",
      "Année 2012 traitée\n",
      "Année 2013 traitée\n",
      "Année 2014 traitée\n",
      "Année 2015 traitée\n"
     ]
    }
   ],
   "source": [
    "years = [str(i) for i in range(2008, 2016)]\n",
    "\n",
    "aggregated_dataframes = {}\n",
    "\n",
    "for y in years:\n",
    "    df = pd.read_csv('../data/hospidiag_opendata_' + y + '.csv', encoding='utf-8', sep=';')\n",
    "\n",
    "    for col in df.columns:\n",
    "        df[col] = df[col].map(mapping)\n",
    "\n",
    "    df.fillna(-4, inplace=True)\n",
    "    df['annee'] = y\n",
    "    aggregated_dataframes[y] = df\n",
    "    print('Année', y, 'traitée')\n",
    "\n",
    "result = pd.concat(aggregated_dataframes)\n",
    "result.to_csv('../data/aggregated_hospidiag_data.csv', encoding='utf-8', sep=';')"
   ]
  },
  {
   "cell_type": "code",
   "execution_count": 38,
   "metadata": {
    "collapsed": false
   },
   "outputs": [
    {
     "data": {
      "text/plain": [
       "161"
      ]
     },
     "execution_count": 38,
     "metadata": {},
     "output_type": "execute_result"
    }
   ],
   "source": [
    "import gc\n",
    "del aggregated_dataframes\n",
    "gc.collect()"
   ]
  },
  {
   "cell_type": "code",
   "execution_count": 24,
   "metadata": {
    "collapsed": false
   },
   "outputs": [
    {
     "data": {
      "text/plain": [
       "array(['CI_A1', 'CI_A10', 'CI_A11', 'CI_A12', 'CI_A14', 'CI_A15', 'CI_A2',\n",
       "       'CI_A3', 'CI_A4', 'CI_A5', 'CI_A6', 'CI_A7', 'CI_A8', 'CI_A9',\n",
       "       'CI_AC1', 'CI_AC2', 'CI_AC3', 'CI_AC4', 'CI_AC5', 'CI_AC6',\n",
       "       'CI_AC7', 'CI_AC8', 'CI_AC9', 'CI_DF1', 'CI_DF2', 'CI_DF3',\n",
       "       'CI_DF4', 'CI_DF5', 'CI_E1', 'CI_E2', 'CI_E3', 'CI_E4', 'CI_E4_V2',\n",
       "       'CI_E5', 'CI_E6', 'CI_E7', 'CI_E7_V2', 'CI_F10_D', 'CI_F10_O',\n",
       "       'CI_F11_D', 'CI_F11_O', 'CI_F12_D', 'CI_F12_O', 'CI_F13_D',\n",
       "       'CI_F13_O', 'CI_F14_D', 'CI_F14_O', 'CI_F15_D', 'CI_F15_O',\n",
       "       'CI_F16_D', 'CI_F16_O', 'CI_F1_D', 'CI_F1_O', 'CI_F2_D', 'CI_F2_O',\n",
       "       'CI_F3_D', 'CI_F3_O', 'CI_F4_D', 'CI_F4_O', 'CI_F5_D', 'CI_F5_O',\n",
       "       'CI_F6_D', 'CI_F6_O', 'CI_F7_D', 'CI_F7_O', 'CI_F8_D', 'CI_F8_O',\n",
       "       'CI_F9_D', 'CI_F9_O', 'P8', 'P8new', 'P9', 'RH1'], dtype=object)"
      ]
     },
     "execution_count": 24,
     "metadata": {},
     "output_type": "execute_result"
    }
   ],
   "source": [
    "result.describe().columns.values"
   ]
  },
  {
   "cell_type": "code",
   "execution_count": 41,
   "metadata": {
    "collapsed": false
   },
   "outputs": [],
   "source": [
    "reduced_result = result[['CI_A1', 'CI_A10', 'CI_A11', 'CI_A12', 'CI_A14', 'CI_A15', 'CI_A2',\n",
    "                        'CI_A3', 'CI_A4', 'CI_A5', 'CI_A6', 'CI_A7', 'CI_A8', 'CI_A9',\n",
    "                        'CI_AC1', 'CI_AC2', 'CI_AC3', 'CI_AC4', 'CI_AC5', 'CI_AC6',\n",
    "                        'CI_AC7', 'CI_AC8', 'CI_AC9', 'CI_DF1', 'CI_DF2', 'CI_DF3',\n",
    "                        'CI_DF4', 'CI_DF5', 'CI_E1', 'CI_E2', 'CI_E3', 'CI_E4', 'CI_E4_V2',\n",
    "                        'CI_E5', 'CI_E6', 'CI_E7', 'CI_E7_V2', 'CI_F10_D', 'CI_F10_O',\n",
    "                        'CI_F11_D', 'CI_F11_O', 'CI_F12_D', 'CI_F12_O', 'CI_F13_D',\n",
    "                        'CI_F13_O', 'CI_F14_D', 'CI_F14_O', 'CI_F15_D', 'CI_F15_O',\n",
    "                        'CI_F16_D', 'CI_F16_O', 'CI_F1_D', 'CI_F1_O', 'CI_F2_D', 'CI_F2_O',\n",
    "                        'CI_F3_D', 'CI_F3_O', 'CI_F4_D', 'CI_F4_O', 'CI_F5_D', 'CI_F5_O',\n",
    "                        'CI_F6_D', 'CI_F6_O', 'CI_F7_D', 'CI_F7_O', 'CI_F8_D', 'CI_F8_O',\n",
    "                        'CI_F9_D', 'CI_F9_O', 'P8', 'P8new', 'P9', 'RH1', 'finess', 'annee', 'cat']]"
   ]
  },
  {
   "cell_type": "code",
   "execution_count": 42,
   "metadata": {
    "collapsed": false
   },
   "outputs": [
    {
     "name": "stderr",
     "output_type": "stream",
     "text": [
      "C:\\Users\\MC731340\\AppData\\Local\\Continuum\\Anaconda3\\lib\\site-packages\\pandas\\core\\generic.py:2701: SettingWithCopyWarning: \n",
      "A value is trying to be set on a copy of a slice from a DataFrame.\n",
      "Try using .loc[row_indexer,col_indexer] = value instead\n",
      "\n",
      "See the caveats in the documentation: http://pandas.pydata.org/pandas-docs/stable/indexing.html#indexing-view-versus-copy\n",
      "  self[name] = value\n"
     ]
    },
    {
     "data": {
      "text/html": [
       "<div>\n",
       "<table border=\"1\" class=\"dataframe\">\n",
       "  <thead>\n",
       "    <tr style=\"text-align: right;\">\n",
       "      <th></th>\n",
       "      <th></th>\n",
       "      <th>CI_A1</th>\n",
       "      <th>CI_A10</th>\n",
       "      <th>CI_A11</th>\n",
       "      <th>CI_A12</th>\n",
       "      <th>CI_A14</th>\n",
       "      <th>CI_A15</th>\n",
       "      <th>CI_A2</th>\n",
       "      <th>CI_A3</th>\n",
       "      <th>CI_A4</th>\n",
       "      <th>CI_A5</th>\n",
       "      <th>...</th>\n",
       "      <th>CI_F8_O</th>\n",
       "      <th>CI_F9_D</th>\n",
       "      <th>CI_F9_O</th>\n",
       "      <th>P8</th>\n",
       "      <th>P8new</th>\n",
       "      <th>P9</th>\n",
       "      <th>RH1</th>\n",
       "      <th>finess</th>\n",
       "      <th>annee</th>\n",
       "      <th>cat</th>\n",
       "    </tr>\n",
       "  </thead>\n",
       "  <tbody>\n",
       "    <tr>\n",
       "      <th rowspan=\"5\" valign=\"top\">2008</th>\n",
       "      <th>0</th>\n",
       "      <td>0.0</td>\n",
       "      <td>0.0</td>\n",
       "      <td>0.0</td>\n",
       "      <td>1.0</td>\n",
       "      <td>1302.0</td>\n",
       "      <td>3.0</td>\n",
       "      <td>0.0</td>\n",
       "      <td>0.0</td>\n",
       "      <td>1301.0</td>\n",
       "      <td>1.0</td>\n",
       "      <td>...</td>\n",
       "      <td>-3.0</td>\n",
       "      <td>-4.0</td>\n",
       "      <td>53553.0</td>\n",
       "      <td>-4.0</td>\n",
       "      <td>-4.0</td>\n",
       "      <td>108.0</td>\n",
       "      <td>-4.0</td>\n",
       "      <td>010007300</td>\n",
       "      <td>2008</td>\n",
       "      <td>3</td>\n",
       "    </tr>\n",
       "    <tr>\n",
       "      <th>1</th>\n",
       "      <td>158.0</td>\n",
       "      <td>0.0</td>\n",
       "      <td>0.0</td>\n",
       "      <td>0.0</td>\n",
       "      <td>2.0</td>\n",
       "      <td>14.0</td>\n",
       "      <td>1.0</td>\n",
       "      <td>0.0</td>\n",
       "      <td>0.0</td>\n",
       "      <td>0.0</td>\n",
       "      <td>...</td>\n",
       "      <td>-4.0</td>\n",
       "      <td>-4.0</td>\n",
       "      <td>-4.0</td>\n",
       "      <td>-4.0</td>\n",
       "      <td>-4.0</td>\n",
       "      <td>-4.0</td>\n",
       "      <td>-4.0</td>\n",
       "      <td>010007987</td>\n",
       "      <td>2008</td>\n",
       "      <td>0</td>\n",
       "    </tr>\n",
       "    <tr>\n",
       "      <th>2</th>\n",
       "      <td>4269.0</td>\n",
       "      <td>120.0</td>\n",
       "      <td>765.0</td>\n",
       "      <td>2479.0</td>\n",
       "      <td>1043.0</td>\n",
       "      <td>101.0</td>\n",
       "      <td>1481.0</td>\n",
       "      <td>1023.0</td>\n",
       "      <td>1338.0</td>\n",
       "      <td>1059.0</td>\n",
       "      <td>...</td>\n",
       "      <td>-4.0</td>\n",
       "      <td>-4.0</td>\n",
       "      <td>-4.0</td>\n",
       "      <td>1064456.0</td>\n",
       "      <td>-4.0</td>\n",
       "      <td>187335.0</td>\n",
       "      <td>39.0</td>\n",
       "      <td>010008407</td>\n",
       "      <td>2008</td>\n",
       "      <td>0</td>\n",
       "    </tr>\n",
       "    <tr>\n",
       "      <th>3</th>\n",
       "      <td>13685.0</td>\n",
       "      <td>1307.0</td>\n",
       "      <td>2041.0</td>\n",
       "      <td>5778.0</td>\n",
       "      <td>2677.0</td>\n",
       "      <td>142.0</td>\n",
       "      <td>4592.0</td>\n",
       "      <td>2461.0</td>\n",
       "      <td>3997.0</td>\n",
       "      <td>1425.0</td>\n",
       "      <td>...</td>\n",
       "      <td>-4.0</td>\n",
       "      <td>-4.0</td>\n",
       "      <td>-4.0</td>\n",
       "      <td>735002.0</td>\n",
       "      <td>-4.0</td>\n",
       "      <td>208714.0</td>\n",
       "      <td>39.0</td>\n",
       "      <td>010780054</td>\n",
       "      <td>2008</td>\n",
       "      <td>0</td>\n",
       "    </tr>\n",
       "    <tr>\n",
       "      <th>4</th>\n",
       "      <td>4233.0</td>\n",
       "      <td>40.0</td>\n",
       "      <td>552.0</td>\n",
       "      <td>1883.0</td>\n",
       "      <td>1089.0</td>\n",
       "      <td>112.0</td>\n",
       "      <td>1668.0</td>\n",
       "      <td>636.0</td>\n",
       "      <td>910.0</td>\n",
       "      <td>445.0</td>\n",
       "      <td>...</td>\n",
       "      <td>-4.0</td>\n",
       "      <td>-4.0</td>\n",
       "      <td>-4.0</td>\n",
       "      <td>438670.0</td>\n",
       "      <td>-4.0</td>\n",
       "      <td>209990.0</td>\n",
       "      <td>46.0</td>\n",
       "      <td>010780062</td>\n",
       "      <td>2008</td>\n",
       "      <td>0</td>\n",
       "    </tr>\n",
       "  </tbody>\n",
       "</table>\n",
       "<p>5 rows × 76 columns</p>\n",
       "</div>"
      ],
      "text/plain": [
       "          CI_A1  CI_A10  CI_A11  CI_A12  CI_A14  CI_A15   CI_A2   CI_A3  \\\n",
       "2008 0      0.0     0.0     0.0     1.0  1302.0     3.0     0.0     0.0   \n",
       "     1    158.0     0.0     0.0     0.0     2.0    14.0     1.0     0.0   \n",
       "     2   4269.0   120.0   765.0  2479.0  1043.0   101.0  1481.0  1023.0   \n",
       "     3  13685.0  1307.0  2041.0  5778.0  2677.0   142.0  4592.0  2461.0   \n",
       "     4   4233.0    40.0   552.0  1883.0  1089.0   112.0  1668.0   636.0   \n",
       "\n",
       "         CI_A4   CI_A5 ...   CI_F8_O  CI_F9_D  CI_F9_O         P8  P8new  \\\n",
       "2008 0  1301.0     1.0 ...      -3.0     -4.0  53553.0       -4.0   -4.0   \n",
       "     1     0.0     0.0 ...      -4.0     -4.0     -4.0       -4.0   -4.0   \n",
       "     2  1338.0  1059.0 ...      -4.0     -4.0     -4.0  1064456.0   -4.0   \n",
       "     3  3997.0  1425.0 ...      -4.0     -4.0     -4.0   735002.0   -4.0   \n",
       "     4   910.0   445.0 ...      -4.0     -4.0     -4.0   438670.0   -4.0   \n",
       "\n",
       "              P9   RH1     finess  annee  cat  \n",
       "2008 0     108.0  -4.0  010007300   2008    3  \n",
       "     1      -4.0  -4.0  010007987   2008    0  \n",
       "     2  187335.0  39.0  010008407   2008    0  \n",
       "     3  208714.0  39.0  010780054   2008    0  \n",
       "     4  209990.0  46.0  010780062   2008    0  \n",
       "\n",
       "[5 rows x 76 columns]"
      ]
     },
     "execution_count": 42,
     "metadata": {},
     "output_type": "execute_result"
    }
   ],
   "source": [
    "from sklearn import preprocessing\n",
    "le = preprocessing.LabelEncoder()\n",
    "reduced_result.cat = le.fit_transform(reduced_result.cat)\n",
    "reduced_result.head()"
   ]
  },
  {
   "cell_type": "code",
   "execution_count": 43,
   "metadata": {
    "collapsed": true
   },
   "outputs": [],
   "source": [
    "reduced_result.to_csv('../data/aggregated_hospidiag_data_reduced.csv', encoding='utf-8', sep=';')"
   ]
  }
 ],
 "metadata": {
  "anaconda-cloud": {},
  "kernelspec": {
   "display_name": "Python [default]",
   "language": "python",
   "name": "python3"
  },
  "language_info": {
   "codemirror_mode": {
    "name": "ipython",
    "version": 3
   },
   "file_extension": ".py",
   "mimetype": "text/x-python",
   "name": "python",
   "nbconvert_exporter": "python",
   "pygments_lexer": "ipython3",
   "version": "3.5.2"
  }
 },
 "nbformat": 4,
 "nbformat_minor": 0
}
