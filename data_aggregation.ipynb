{
 "cells": [
  {
   "cell_type": "markdown",
   "metadata": {},
   "source": [
    "# Traitement des données des fichiers Excel hospidiag\n",
    "\n",
    "#### Pré-requis : convertir toutes les tabs hospidiag en fichiers csv, en utilisant l'encodage UTF-8"
   ]
  },
  {
   "cell_type": "code",
   "execution_count": 12,
   "metadata": {
    "collapsed": true
   },
   "outputs": [],
   "source": [
    "import pandas as pd\n",
    "\n",
    "missing_values_mapping = {'.z' : -3, '.c' : -2, '.m' : -1}\n",
    "\n",
    "def mapping(x):\n",
    "    try:\n",
    "        return missing_values_mapping[x]\n",
    "    except:\n",
    "        return x"
   ]
  },
  {
   "cell_type": "code",
   "execution_count": 16,
   "metadata": {
    "collapsed": false,
    "scrolled": true
   },
   "outputs": [
    {
     "name": "stdout",
     "output_type": "stream",
     "text": [
      "Année 2008 traitée\n",
      "Année 2009 traitée\n",
      "Année 2010 traitée\n",
      "Année 2011 traitée\n",
      "Année 2012 traitée\n",
      "Année 2013 traitée\n",
      "Année 2014 traitée\n",
      "Année 2015 traitée\n"
     ]
    }
   ],
   "source": [
    "years = [str(i) for i in range(2008, 2016)]\n",
    "\n",
    "aggregated_dataframes = {}\n",
    "\n",
    "for y in years:\n",
    "    df = pd.read_csv('../data/hospidiag_opendata_' + y + '.csv', encoding='utf-8', sep=';')\n",
    "\n",
    "    for col in df.columns:\n",
    "        df[col] = df[col].map(mapping)\n",
    "\n",
    "    df.fillna(-4, inplace=True)\n",
    "    df['annee'] = y\n",
    "    aggregated_dataframes[y] = df\n",
    "    print('Année', y, 'traitée')\n",
    "\n",
    "result = pd.concat(aggregated_dataframes)\n",
    "result.to_csv('../data/aggregated_hospidiag_data.csv', encoding='utf-8', sep=';')"
   ]
  }
 ],
 "metadata": {
  "anaconda-cloud": {},
  "kernelspec": {
   "display_name": "Python [default]",
   "language": "python",
   "name": "python3"
  },
  "language_info": {
   "codemirror_mode": {
    "name": "ipython",
    "version": 3
   },
   "file_extension": ".py",
   "mimetype": "text/x-python",
   "name": "python",
   "nbconvert_exporter": "python",
   "pygments_lexer": "ipython3",
   "version": "3.5.2"
  }
 },
 "nbformat": 4,
 "nbformat_minor": 0
}
