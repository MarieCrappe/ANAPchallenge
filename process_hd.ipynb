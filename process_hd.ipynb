{
 "cells": [
  {
   "cell_type": "markdown",
   "metadata": {},
   "source": [
    "# Traitement des données hospi-diag"
   ]
  },
  {
   "cell_type": "code",
   "execution_count": 8,
   "metadata": {
    "collapsed": true
   },
   "outputs": [],
   "source": [
    "import pandas as pd\n",
    "\n",
    "categorical_mapping = {'.z' : -3,\n",
    "                       '.c' : -2,\n",
    "                       '.m' : -1\n",
    "                      }\n",
    "\n",
    "def mapping(x):\n",
    "    try:\n",
    "        return categorical_mapping[x]\n",
    "    except:\n",
    "        return x"
   ]
  },
  {
   "cell_type": "code",
   "execution_count": 3,
   "metadata": {
    "collapsed": false,
    "scrolled": true
   },
   "outputs": [
    {
     "name": "stdout",
     "output_type": "stream",
     "text": [
      "processing 2008\n",
      "\n",
      "done 2008\n",
      "\n",
      "processing 2009\n",
      "\n",
      "done 2009\n",
      "\n",
      "processing 2010\n",
      "\n",
      "done 2010\n",
      "\n",
      "processing 2011\n",
      "\n",
      "done 2011\n",
      "\n",
      "processing 2012\n",
      "\n",
      "done 2012\n",
      "\n",
      "processing 2013\n",
      "\n",
      "done 2013\n",
      "\n",
      "processing 2014\n",
      "\n",
      "done 2014\n",
      "\n",
      "processing 2015\n",
      "\n",
      "done 2015\n",
      "\n"
     ]
    }
   ],
   "source": [
    "years = [str(i) for i in range(2008, 2016)]\n",
    "\n",
    "aggregated_dataframes = {}\n",
    "\n",
    "for y in years:\n",
    "    print('processing ', y)\n",
    "    data_hd = pd.read_csv('../data/hospidiag_opendata_' + y + '.csv', encoding='utf-8', sep=';')\n",
    "\n",
    "    for col in data_hd.columns:\n",
    "        data_hd[col] = data_hd[col].map(mapping)\n",
    "\n",
    "    data_hd.fillna(-4, inplace=True)\n",
    "    data_hd['annee'] = y\n",
    "    aggregated_dataframes[y] = data_hd\n",
    "    print('done ', y)\n",
    "\n",
    "result = pd.concat(aggregated_dataframes)\n",
    "result.to_csv(os.path.join(data_folder, 'data_hd.csv'), encoding='utf-8', sep=';')"
   ]
  },
  {
   "cell_type": "code",
   "execution_count": 7,
   "metadata": {
    "collapsed": false
   },
   "outputs": [
    {
     "ename": "FileNotFoundError",
     "evalue": "[WinError 3] Le chemin d’accès spécifié est introuvable: '../data/hospidiag_opendata_\\\\2008'",
     "output_type": "error",
     "traceback": [
      "\u001b[0;31m---------------------------------------------------------------------------\u001b[0m",
      "\u001b[0;31mFileNotFoundError\u001b[0m                         Traceback (most recent call last)",
      "\u001b[0;32m<ipython-input-7-98d594c85968>\u001b[0m in \u001b[0;36m<module>\u001b[0;34m()\u001b[0m\n\u001b[1;32m      2\u001b[0m \u001b[0mdata_folder\u001b[0m \u001b[1;33m=\u001b[0m \u001b[1;34m'../data/'\u001b[0m\u001b[1;33m\u001b[0m\u001b[0m\n\u001b[1;32m      3\u001b[0m \u001b[0my\u001b[0m \u001b[1;33m=\u001b[0m \u001b[1;34m'2008'\u001b[0m\u001b[1;33m\u001b[0m\u001b[0m\n\u001b[0;32m----> 4\u001b[0;31m \u001b[0mos\u001b[0m\u001b[1;33m.\u001b[0m\u001b[0mlistdir\u001b[0m\u001b[1;33m(\u001b[0m\u001b[0mos\u001b[0m\u001b[1;33m.\u001b[0m\u001b[0mpath\u001b[0m\u001b[1;33m.\u001b[0m\u001b[0mjoin\u001b[0m\u001b[1;33m(\u001b[0m\u001b[0mdata_folder\u001b[0m\u001b[1;33m,\u001b[0m \u001b[1;34m'hospidiag_opendata_'\u001b[0m\u001b[1;33m,\u001b[0m \u001b[0my\u001b[0m\u001b[1;33m)\u001b[0m\u001b[1;33m)\u001b[0m\u001b[1;33m\u001b[0m\u001b[0m\n\u001b[0m",
      "\u001b[0;31mFileNotFoundError\u001b[0m: [WinError 3] Le chemin d’accès spécifié est introuvable: '../data/hospidiag_opendata_\\\\2008'"
     ]
    }
   ],
   "source": [
    "import os\n",
    "data_folder = '../data/'\n",
    "y = '2008'\n",
    "os.listdir(os.path.join(data_folder, 'hospidiag_opendata_', y))"
   ]
  },
  {
   "cell_type": "code",
   "execution_count": 10,
   "metadata": {
    "collapsed": false
   },
   "outputs": [],
   "source": [
    "data_hd = pd.read_csv('../data/hospidiag_opendata_' + y + '.csv', encoding='utf-8', sep=';')"
   ]
  },
  {
   "cell_type": "code",
   "execution_count": 11,
   "metadata": {
    "collapsed": false
   },
   "outputs": [
    {
     "data": {
      "text/html": [
       "<div>\n",
       "<table border=\"1\" class=\"dataframe\">\n",
       "  <thead>\n",
       "    <tr style=\"text-align: right;\">\n",
       "      <th></th>\n",
       "      <th>finess</th>\n",
       "      <th>rs</th>\n",
       "      <th>champ_pmsi</th>\n",
       "      <th>taa</th>\n",
       "      <th>cat</th>\n",
       "      <th>taille_MCO</th>\n",
       "      <th>taille_M</th>\n",
       "      <th>taille_C</th>\n",
       "      <th>taille_O</th>\n",
       "      <th>A7</th>\n",
       "      <th>...</th>\n",
       "      <th>CI_RH7</th>\n",
       "      <th>CI_RH8</th>\n",
       "      <th>CI_RH9</th>\n",
       "      <th>CI_RH10</th>\n",
       "      <th>CI_RH11</th>\n",
       "      <th>CI_DF1</th>\n",
       "      <th>CI_DF2</th>\n",
       "      <th>CI_DF3</th>\n",
       "      <th>CI_DF4</th>\n",
       "      <th>CI_DF5</th>\n",
       "    </tr>\n",
       "  </thead>\n",
       "  <tbody>\n",
       "    <tr>\n",
       "      <th>0</th>\n",
       "      <td>010007300</td>\n",
       "      <td>CLINIQUE AMBULATOIRE CENDANEG</td>\n",
       "      <td>OQN</td>\n",
       "      <td>TAA</td>\n",
       "      <td>CLI</td>\n",
       "      <td>T1</td>\n",
       "      <td>M1</td>\n",
       "      <td>C1</td>\n",
       "      <td>NaN</td>\n",
       "      <td>.c</td>\n",
       "      <td>...</td>\n",
       "      <td>1,38</td>\n",
       "      <td>2,28</td>\n",
       "      <td>NaN</td>\n",
       "      <td>NaN</td>\n",
       "      <td>NaN</td>\n",
       "      <td>NaN</td>\n",
       "      <td>NaN</td>\n",
       "      <td>NaN</td>\n",
       "      <td>NaN</td>\n",
       "      <td>NaN</td>\n",
       "    </tr>\n",
       "    <tr>\n",
       "      <th>1</th>\n",
       "      <td>010007987</td>\n",
       "      <td>CH HAUTEVILLE-LOMPNES</td>\n",
       "      <td>DGF</td>\n",
       "      <td>TAA</td>\n",
       "      <td>CH</td>\n",
       "      <td>T1</td>\n",
       "      <td>M1</td>\n",
       "      <td>C0</td>\n",
       "      <td>NaN</td>\n",
       "      <td>.c</td>\n",
       "      <td>...</td>\n",
       "      <td>44,6</td>\n",
       "      <td>285,51</td>\n",
       "      <td>4,22</td>\n",
       "      <td>7,43</td>\n",
       "      <td>74,36</td>\n",
       "      <td>NaN</td>\n",
       "      <td>NaN</td>\n",
       "      <td>NaN</td>\n",
       "      <td>NaN</td>\n",
       "      <td>NaN</td>\n",
       "    </tr>\n",
       "    <tr>\n",
       "      <th>2</th>\n",
       "      <td>010008407</td>\n",
       "      <td>CH DU HAUT BUGEY</td>\n",
       "      <td>DGF</td>\n",
       "      <td>TAA</td>\n",
       "      <td>CH</td>\n",
       "      <td>T2</td>\n",
       "      <td>M2</td>\n",
       "      <td>C2</td>\n",
       "      <td>O2</td>\n",
       "      <td>.c</td>\n",
       "      <td>...</td>\n",
       "      <td>50,5</td>\n",
       "      <td>369,28</td>\n",
       "      <td>2</td>\n",
       "      <td>20,75</td>\n",
       "      <td>43,3</td>\n",
       "      <td>NaN</td>\n",
       "      <td>NaN</td>\n",
       "      <td>NaN</td>\n",
       "      <td>NaN</td>\n",
       "      <td>NaN</td>\n",
       "    </tr>\n",
       "    <tr>\n",
       "      <th>3</th>\n",
       "      <td>010780054</td>\n",
       "      <td>CH BOURG EN BRESSE</td>\n",
       "      <td>DGF</td>\n",
       "      <td>TAA</td>\n",
       "      <td>CH</td>\n",
       "      <td>T3</td>\n",
       "      <td>M4</td>\n",
       "      <td>C3</td>\n",
       "      <td>O4</td>\n",
       "      <td>.c</td>\n",
       "      <td>...</td>\n",
       "      <td>229,73</td>\n",
       "      <td>1170,29</td>\n",
       "      <td>8,07</td>\n",
       "      <td>99,52</td>\n",
       "      <td>179,22</td>\n",
       "      <td>NaN</td>\n",
       "      <td>NaN</td>\n",
       "      <td>NaN</td>\n",
       "      <td>NaN</td>\n",
       "      <td>NaN</td>\n",
       "    </tr>\n",
       "    <tr>\n",
       "      <th>4</th>\n",
       "      <td>010780062</td>\n",
       "      <td>CH DE BELLEY</td>\n",
       "      <td>DGF</td>\n",
       "      <td>TAA</td>\n",
       "      <td>CH</td>\n",
       "      <td>T2</td>\n",
       "      <td>M2</td>\n",
       "      <td>C2</td>\n",
       "      <td>O2</td>\n",
       "      <td>.c</td>\n",
       "      <td>...</td>\n",
       "      <td>50,13</td>\n",
       "      <td>319,62</td>\n",
       "      <td>0,86</td>\n",
       "      <td>22,96</td>\n",
       "      <td>37</td>\n",
       "      <td>NaN</td>\n",
       "      <td>NaN</td>\n",
       "      <td>NaN</td>\n",
       "      <td>NaN</td>\n",
       "      <td>NaN</td>\n",
       "    </tr>\n",
       "  </tbody>\n",
       "</table>\n",
       "<p>5 rows × 178 columns</p>\n",
       "</div>"
      ],
      "text/plain": [
       "      finess                             rs champ_pmsi  taa  cat taille_MCO  \\\n",
       "0  010007300  CLINIQUE AMBULATOIRE CENDANEG        OQN  TAA  CLI         T1   \n",
       "1  010007987          CH HAUTEVILLE-LOMPNES        DGF  TAA   CH         T1   \n",
       "2  010008407               CH DU HAUT BUGEY        DGF  TAA   CH         T2   \n",
       "3  010780054             CH BOURG EN BRESSE        DGF  TAA   CH         T3   \n",
       "4  010780062                   CH DE BELLEY        DGF  TAA   CH         T2   \n",
       "\n",
       "  taille_M taille_C taille_O  A7  ...    CI_RH7   CI_RH8 CI_RH9 CI_RH10  \\\n",
       "0       M1       C1      NaN  .c  ...      1,38     2,28    NaN     NaN   \n",
       "1       M1       C0      NaN  .c  ...      44,6   285,51   4,22    7,43   \n",
       "2       M2       C2       O2  .c  ...      50,5   369,28      2   20,75   \n",
       "3       M4       C3       O4  .c  ...    229,73  1170,29   8,07   99,52   \n",
       "4       M2       C2       O2  .c  ...     50,13   319,62   0,86   22,96   \n",
       "\n",
       "  CI_RH11 CI_DF1 CI_DF2 CI_DF3 CI_DF4 CI_DF5  \n",
       "0     NaN    NaN    NaN    NaN    NaN    NaN  \n",
       "1   74,36    NaN    NaN    NaN    NaN    NaN  \n",
       "2    43,3    NaN    NaN    NaN    NaN    NaN  \n",
       "3  179,22    NaN    NaN    NaN    NaN    NaN  \n",
       "4      37    NaN    NaN    NaN    NaN    NaN  \n",
       "\n",
       "[5 rows x 178 columns]"
      ]
     },
     "execution_count": 11,
     "metadata": {},
     "output_type": "execute_result"
    }
   ],
   "source": [
    "data_hd.head()"
   ]
  },
  {
   "cell_type": "code",
   "execution_count": null,
   "metadata": {
    "collapsed": true
   },
   "outputs": [],
   "source": []
  }
 ],
 "metadata": {
  "anaconda-cloud": {},
  "kernelspec": {
   "display_name": "Python [default]",
   "language": "python",
   "name": "python3"
  },
  "language_info": {
   "codemirror_mode": {
    "name": "ipython",
    "version": 3
   },
   "file_extension": ".py",
   "mimetype": "text/x-python",
   "name": "python",
   "nbconvert_exporter": "python",
   "pygments_lexer": "ipython3",
   "version": "3.5.2"
  }
 },
 "nbformat": 4,
 "nbformat_minor": 0
}
