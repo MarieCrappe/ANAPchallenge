{
 "cells": [
  {
   "cell_type": "markdown",
   "metadata": {
    "slideshow": {
     "slide_type": "-"
    }
   },
   "source": [
    "# M2 Innovation Technologique et Entrepreunariat\n",
    "## Introduction au Machine Learning en situation\n",
    "\n",
    "Auteurs: Guillaume Corlay, Marie Crappe & Livia Sossou\n",
    "\n",
    "Date de la dernière modification du notebook : 9 janvier 2017"
   ]
  },
  {
   "cell_type": "markdown",
   "metadata": {},
   "source": [
    "Modèle prédictif pour le challenge DataScience.net intitulé `ANAP-ATIH`"
   ]
  },
  {
   "cell_type": "markdown",
   "metadata": {},
   "source": [
    "## 0. Set up"
   ]
  },
  {
   "cell_type": "code",
   "execution_count": 1,
   "metadata": {
    "collapsed": false
   },
   "outputs": [
    {
     "name": "stdout",
     "output_type": "stream",
     "text": [
      "Populating the interactive namespace from numpy and matplotlib\n"
     ]
    }
   ],
   "source": [
    "# The following command imports numpy as np and matplotlib as plt\n",
    "%pylab inline\n",
    "import pandas as pd\n",
    "import multiprocessing\n",
    "import re\n",
    "import gc\n",
    "\n",
    "from sklearn import preprocessing\n",
    "\n",
    "from sklearn.linear_model import LinearRegression\n",
    "from sklearn.metrics import r2_score, mean_squared_error\n",
    "from sklearn.svm import LinearSVC\n",
    "from sklearn.ensemble import GradientBoostingRegressor, RandomForestRegressor\n",
    "from sklearn.ensemble.partial_dependence import plot_partial_dependence\n",
    "\n",
    "from sklearn.cross_validation import KFold, cross_val_score\n",
    "from itertools import combinations\n",
    "#from joblib import Parallel, delayed  \n",
    "\n",
    "import warnings\n",
    "warnings.filterwarnings('ignore')"
   ]
  },
  {
   "cell_type": "markdown",
   "metadata": {},
   "source": [
    "## 1. Chargement des données"
   ]
  },
  {
   "cell_type": "code",
   "execution_count": 2,
   "metadata": {
    "collapsed": false,
    "scrolled": true
   },
   "outputs": [
    {
     "data": {
      "text/html": [
       "<div>\n",
       "<table border=\"1\" class=\"dataframe\">\n",
       "  <thead>\n",
       "    <tr style=\"text-align: right;\">\n",
       "      <th></th>\n",
       "      <th>Finess</th>\n",
       "      <th>Raison sociale</th>\n",
       "      <th>Provenance des patients (département)</th>\n",
       "      <th>Domaines d activités</th>\n",
       "      <th>âge (deux classes &gt;75 ans, &lt;= 75 ans)</th>\n",
       "      <th>Nombre de séjours/séances MCO des patients en ALD</th>\n",
       "      <th>Nombre total de séjours/séances</th>\n",
       "      <th>annee</th>\n",
       "      <th>cible1</th>\n",
       "    </tr>\n",
       "  </thead>\n",
       "  <tbody>\n",
       "    <tr>\n",
       "      <th>0</th>\n",
       "      <td>10007300</td>\n",
       "      <td>CLINIQUE AMBULATOIRE CENDANEG</td>\n",
       "      <td>01-Ain</td>\n",
       "      <td>D01-Digestif</td>\n",
       "      <td>&lt;=75 ans</td>\n",
       "      <td>19</td>\n",
       "      <td>1061</td>\n",
       "      <td>2008</td>\n",
       "      <td>0.010624</td>\n",
       "    </tr>\n",
       "    <tr>\n",
       "      <th>1</th>\n",
       "      <td>10007300</td>\n",
       "      <td>CLINIQUE AMBULATOIRE CENDANEG</td>\n",
       "      <td>01-Ain</td>\n",
       "      <td>D01-Digestif</td>\n",
       "      <td>&gt;75 ans</td>\n",
       "      <td>5</td>\n",
       "      <td>48</td>\n",
       "      <td>2008</td>\n",
       "      <td>0.053320</td>\n",
       "    </tr>\n",
       "    <tr>\n",
       "      <th>2</th>\n",
       "      <td>10007300</td>\n",
       "      <td>CLINIQUE AMBULATOIRE CENDANEG</td>\n",
       "      <td>01-Ain</td>\n",
       "      <td>D07-Cardio-vasculaire (hors cathétérismes vasc...</td>\n",
       "      <td>&lt;=75 ans</td>\n",
       "      <td>0</td>\n",
       "      <td>1</td>\n",
       "      <td>2008</td>\n",
       "      <td>0.000000</td>\n",
       "    </tr>\n",
       "    <tr>\n",
       "      <th>3</th>\n",
       "      <td>10007300</td>\n",
       "      <td>CLINIQUE AMBULATOIRE CENDANEG</td>\n",
       "      <td>01-Ain</td>\n",
       "      <td>D16-Hématologie</td>\n",
       "      <td>&lt;=75 ans</td>\n",
       "      <td>0</td>\n",
       "      <td>17</td>\n",
       "      <td>2008</td>\n",
       "      <td>0.000000</td>\n",
       "    </tr>\n",
       "    <tr>\n",
       "      <th>4</th>\n",
       "      <td>10007300</td>\n",
       "      <td>CLINIQUE AMBULATOIRE CENDANEG</td>\n",
       "      <td>01-Ain</td>\n",
       "      <td>D16-Hématologie</td>\n",
       "      <td>&gt;75 ans</td>\n",
       "      <td>0</td>\n",
       "      <td>2</td>\n",
       "      <td>2008</td>\n",
       "      <td>0.000000</td>\n",
       "    </tr>\n",
       "  </tbody>\n",
       "</table>\n",
       "</div>"
      ],
      "text/plain": [
       "     Finess                 Raison sociale  \\\n",
       "0  10007300  CLINIQUE AMBULATOIRE CENDANEG   \n",
       "1  10007300  CLINIQUE AMBULATOIRE CENDANEG   \n",
       "2  10007300  CLINIQUE AMBULATOIRE CENDANEG   \n",
       "3  10007300  CLINIQUE AMBULATOIRE CENDANEG   \n",
       "4  10007300  CLINIQUE AMBULATOIRE CENDANEG   \n",
       "\n",
       "  Provenance des patients (département)  \\\n",
       "0                                01-Ain   \n",
       "1                                01-Ain   \n",
       "2                                01-Ain   \n",
       "3                                01-Ain   \n",
       "4                                01-Ain   \n",
       "\n",
       "                                Domaines d activités  \\\n",
       "0                                       D01-Digestif   \n",
       "1                                       D01-Digestif   \n",
       "2  D07-Cardio-vasculaire (hors cathétérismes vasc...   \n",
       "3                                    D16-Hématologie   \n",
       "4                                    D16-Hématologie   \n",
       "\n",
       "  âge (deux classes >75 ans, <= 75 ans)  \\\n",
       "0                              <=75 ans   \n",
       "1                               >75 ans   \n",
       "2                              <=75 ans   \n",
       "3                              <=75 ans   \n",
       "4                               >75 ans   \n",
       "\n",
       "   Nombre de séjours/séances MCO des patients en ALD  \\\n",
       "0                                                 19   \n",
       "1                                                  5   \n",
       "2                                                  0   \n",
       "3                                                  0   \n",
       "4                                                  0   \n",
       "\n",
       "   Nombre total de séjours/séances  annee    cible1  \n",
       "0                             1061   2008  0.010624  \n",
       "1                               48   2008  0.053320  \n",
       "2                                1   2008  0.000000  \n",
       "3                               17   2008  0.000000  \n",
       "4                                2   2008  0.000000  "
      ]
     },
     "execution_count": 2,
     "metadata": {},
     "output_type": "execute_result"
    }
   ],
   "source": [
    "train = pd.read_csv('../data/data2.csv', sep=';')\n",
    "additional_data = pd.read_csv('../data/aggregated_hospidiag_data_reduced.csv', sep=';')\n",
    "train.head(5)"
   ]
  },
  {
   "cell_type": "code",
   "execution_count": 3,
   "metadata": {
    "collapsed": false
   },
   "outputs": [
    {
     "data": {
      "text/plain": [
       "(1879842, 9)"
      ]
     },
     "execution_count": 3,
     "metadata": {},
     "output_type": "execute_result"
    }
   ],
   "source": [
    "train.shape"
   ]
  },
  {
   "cell_type": "code",
   "execution_count": 4,
   "metadata": {
    "collapsed": false
   },
   "outputs": [],
   "source": [
    "train.columns = ['finess', 'RS', 'Dept', 'Activite', 'Age', 'Nb_MCO', 'Nb_Sejours', 'annee', 'Target']\n",
    "train.loc[train.Age == '<=75 ans', 'Age'] = 0\n",
    "train.loc[train.Age == '>75 ans', 'Age'] = 1"
   ]
  },
  {
   "cell_type": "code",
   "execution_count": 5,
   "metadata": {
    "collapsed": false
   },
   "outputs": [
    {
     "data": {
      "text/html": [
       "<div>\n",
       "<table border=\"1\" class=\"dataframe\">\n",
       "  <thead>\n",
       "    <tr style=\"text-align: right;\">\n",
       "      <th></th>\n",
       "      <th>finess</th>\n",
       "      <th>Dept</th>\n",
       "      <th>Activite</th>\n",
       "      <th>Age</th>\n",
       "      <th>Nb_MCO</th>\n",
       "      <th>Nb_Sejours</th>\n",
       "      <th>annee</th>\n",
       "      <th>Target</th>\n",
       "      <th>RS_prive</th>\n",
       "    </tr>\n",
       "  </thead>\n",
       "  <tbody>\n",
       "    <tr>\n",
       "      <th>0</th>\n",
       "      <td>10007300</td>\n",
       "      <td>01-Ain</td>\n",
       "      <td>D01-Digestif</td>\n",
       "      <td>0</td>\n",
       "      <td>19</td>\n",
       "      <td>1061</td>\n",
       "      <td>2008</td>\n",
       "      <td>0.010624</td>\n",
       "      <td>1</td>\n",
       "    </tr>\n",
       "    <tr>\n",
       "      <th>1</th>\n",
       "      <td>10007300</td>\n",
       "      <td>01-Ain</td>\n",
       "      <td>D01-Digestif</td>\n",
       "      <td>1</td>\n",
       "      <td>5</td>\n",
       "      <td>48</td>\n",
       "      <td>2008</td>\n",
       "      <td>0.053320</td>\n",
       "      <td>1</td>\n",
       "    </tr>\n",
       "    <tr>\n",
       "      <th>2</th>\n",
       "      <td>10007300</td>\n",
       "      <td>01-Ain</td>\n",
       "      <td>D07-Cardio-vasculaire (hors cathétérismes vasc...</td>\n",
       "      <td>0</td>\n",
       "      <td>0</td>\n",
       "      <td>1</td>\n",
       "      <td>2008</td>\n",
       "      <td>0.000000</td>\n",
       "      <td>1</td>\n",
       "    </tr>\n",
       "    <tr>\n",
       "      <th>3</th>\n",
       "      <td>10007300</td>\n",
       "      <td>01-Ain</td>\n",
       "      <td>D16-Hématologie</td>\n",
       "      <td>0</td>\n",
       "      <td>0</td>\n",
       "      <td>17</td>\n",
       "      <td>2008</td>\n",
       "      <td>0.000000</td>\n",
       "      <td>1</td>\n",
       "    </tr>\n",
       "    <tr>\n",
       "      <th>4</th>\n",
       "      <td>10007300</td>\n",
       "      <td>01-Ain</td>\n",
       "      <td>D16-Hématologie</td>\n",
       "      <td>1</td>\n",
       "      <td>0</td>\n",
       "      <td>2</td>\n",
       "      <td>2008</td>\n",
       "      <td>0.000000</td>\n",
       "      <td>1</td>\n",
       "    </tr>\n",
       "  </tbody>\n",
       "</table>\n",
       "</div>"
      ],
      "text/plain": [
       "     finess    Dept                                           Activite Age  \\\n",
       "0  10007300  01-Ain                                       D01-Digestif   0   \n",
       "1  10007300  01-Ain                                       D01-Digestif   1   \n",
       "2  10007300  01-Ain  D07-Cardio-vasculaire (hors cathétérismes vasc...   0   \n",
       "3  10007300  01-Ain                                    D16-Hématologie   0   \n",
       "4  10007300  01-Ain                                    D16-Hématologie   1   \n",
       "\n",
       "   Nb_MCO  Nb_Sejours  annee    Target  RS_prive  \n",
       "0      19        1061   2008  0.010624         1  \n",
       "1       5          48   2008  0.053320         1  \n",
       "2       0           1   2008  0.000000         1  \n",
       "3       0          17   2008  0.000000         1  \n",
       "4       0           2   2008  0.000000         1  "
      ]
     },
     "execution_count": 5,
     "metadata": {},
     "output_type": "execute_result"
    }
   ],
   "source": [
    "# On sépare les cliniques 'privées' des CH et hôpitaux\n",
    "prive = re.compile('CLINIQUE')\n",
    "train['RS_prive'] = train.RS.apply(lambda x: len(re.findall(prive, x)))\n",
    "train.drop('RS', axis=1, inplace=True)\n",
    "train.head(5)"
   ]
  },
  {
   "cell_type": "code",
   "execution_count": 6,
   "metadata": {
    "collapsed": true
   },
   "outputs": [],
   "source": [
    "train['ratio'] = train['Nb_MCO'] / train['Nb_Sejours']"
   ]
  },
  {
   "cell_type": "code",
   "execution_count": 7,
   "metadata": {
    "collapsed": false
   },
   "outputs": [
    {
     "data": {
      "text/html": [
       "<div>\n",
       "<table border=\"1\" class=\"dataframe\">\n",
       "  <thead>\n",
       "    <tr style=\"text-align: right;\">\n",
       "      <th></th>\n",
       "      <th>finess</th>\n",
       "      <th>Dept</th>\n",
       "      <th>Activite</th>\n",
       "      <th>Age</th>\n",
       "      <th>Nb_MCO</th>\n",
       "      <th>Nb_Sejours</th>\n",
       "      <th>annee</th>\n",
       "      <th>Target</th>\n",
       "      <th>RS_prive</th>\n",
       "      <th>ratio</th>\n",
       "      <th>...</th>\n",
       "      <th>CI_F7_O</th>\n",
       "      <th>CI_F8_D</th>\n",
       "      <th>CI_F8_O</th>\n",
       "      <th>CI_F9_D</th>\n",
       "      <th>CI_F9_O</th>\n",
       "      <th>P8</th>\n",
       "      <th>P8new</th>\n",
       "      <th>P9</th>\n",
       "      <th>RH1</th>\n",
       "      <th>cat</th>\n",
       "    </tr>\n",
       "  </thead>\n",
       "  <tbody>\n",
       "    <tr>\n",
       "      <th>0</th>\n",
       "      <td>280000449</td>\n",
       "      <td>78-Yvelines</td>\n",
       "      <td>D18-Maladies infectieuses (dont VIH)</td>\n",
       "      <td>0</td>\n",
       "      <td>0</td>\n",
       "      <td>1</td>\n",
       "      <td>2008</td>\n",
       "      <td>0.000000</td>\n",
       "      <td>1</td>\n",
       "      <td>0.0</td>\n",
       "      <td>...</td>\n",
       "      <td>4128984.0</td>\n",
       "      <td>-3000.0</td>\n",
       "      <td>-2000.0</td>\n",
       "      <td>-3000.0</td>\n",
       "      <td>-371168.0</td>\n",
       "      <td>-3000.0</td>\n",
       "      <td>-3000.0</td>\n",
       "      <td>-3000.0</td>\n",
       "      <td>-3000.0</td>\n",
       "      <td>3</td>\n",
       "    </tr>\n",
       "    <tr>\n",
       "      <th>1</th>\n",
       "      <td>280000449</td>\n",
       "      <td>78-Yvelines</td>\n",
       "      <td>D19-Endocrinologie</td>\n",
       "      <td>0</td>\n",
       "      <td>0</td>\n",
       "      <td>3</td>\n",
       "      <td>2008</td>\n",
       "      <td>0.000000</td>\n",
       "      <td>1</td>\n",
       "      <td>0.0</td>\n",
       "      <td>...</td>\n",
       "      <td>4128984.0</td>\n",
       "      <td>-3000.0</td>\n",
       "      <td>-2000.0</td>\n",
       "      <td>-3000.0</td>\n",
       "      <td>-371168.0</td>\n",
       "      <td>-3000.0</td>\n",
       "      <td>-3000.0</td>\n",
       "      <td>-3000.0</td>\n",
       "      <td>-3000.0</td>\n",
       "      <td>3</td>\n",
       "    </tr>\n",
       "    <tr>\n",
       "      <th>2</th>\n",
       "      <td>280000449</td>\n",
       "      <td>78-Yvelines</td>\n",
       "      <td>D19-Endocrinologie</td>\n",
       "      <td>1</td>\n",
       "      <td>0</td>\n",
       "      <td>1</td>\n",
       "      <td>2008</td>\n",
       "      <td>0.000000</td>\n",
       "      <td>1</td>\n",
       "      <td>0.0</td>\n",
       "      <td>...</td>\n",
       "      <td>4128984.0</td>\n",
       "      <td>-3000.0</td>\n",
       "      <td>-2000.0</td>\n",
       "      <td>-3000.0</td>\n",
       "      <td>-371168.0</td>\n",
       "      <td>-3000.0</td>\n",
       "      <td>-3000.0</td>\n",
       "      <td>-3000.0</td>\n",
       "      <td>-3000.0</td>\n",
       "      <td>3</td>\n",
       "    </tr>\n",
       "    <tr>\n",
       "      <th>3</th>\n",
       "      <td>280000449</td>\n",
       "      <td>78-Yvelines</td>\n",
       "      <td>D23-Toxicologie, Intoxications, Alcool</td>\n",
       "      <td>1</td>\n",
       "      <td>1</td>\n",
       "      <td>1</td>\n",
       "      <td>2008</td>\n",
       "      <td>0.124902</td>\n",
       "      <td>1</td>\n",
       "      <td>1.0</td>\n",
       "      <td>...</td>\n",
       "      <td>4128984.0</td>\n",
       "      <td>-3000.0</td>\n",
       "      <td>-2000.0</td>\n",
       "      <td>-3000.0</td>\n",
       "      <td>-371168.0</td>\n",
       "      <td>-3000.0</td>\n",
       "      <td>-3000.0</td>\n",
       "      <td>-3000.0</td>\n",
       "      <td>-3000.0</td>\n",
       "      <td>3</td>\n",
       "    </tr>\n",
       "    <tr>\n",
       "      <th>4</th>\n",
       "      <td>280000449</td>\n",
       "      <td>78-Yvelines</td>\n",
       "      <td>D26-Activités inter spécialités, suivi thérape...</td>\n",
       "      <td>1</td>\n",
       "      <td>1</td>\n",
       "      <td>1</td>\n",
       "      <td>2008</td>\n",
       "      <td>0.124092</td>\n",
       "      <td>1</td>\n",
       "      <td>1.0</td>\n",
       "      <td>...</td>\n",
       "      <td>4128984.0</td>\n",
       "      <td>-3000.0</td>\n",
       "      <td>-2000.0</td>\n",
       "      <td>-3000.0</td>\n",
       "      <td>-371168.0</td>\n",
       "      <td>-3000.0</td>\n",
       "      <td>-3000.0</td>\n",
       "      <td>-3000.0</td>\n",
       "      <td>-3000.0</td>\n",
       "      <td>3</td>\n",
       "    </tr>\n",
       "  </tbody>\n",
       "</table>\n",
       "<p>5 rows × 95 columns</p>\n",
       "</div>"
      ],
      "text/plain": [
       "      finess         Dept                                           Activite  \\\n",
       "0  280000449  78-Yvelines               D18-Maladies infectieuses (dont VIH)   \n",
       "1  280000449  78-Yvelines                                 D19-Endocrinologie   \n",
       "2  280000449  78-Yvelines                                 D19-Endocrinologie   \n",
       "3  280000449  78-Yvelines             D23-Toxicologie, Intoxications, Alcool   \n",
       "4  280000449  78-Yvelines  D26-Activités inter spécialités, suivi thérape...   \n",
       "\n",
       "  Age  Nb_MCO  Nb_Sejours  annee    Target  RS_prive  ratio ...     CI_F7_O  \\\n",
       "0   0       0           1   2008  0.000000         1    0.0 ...   4128984.0   \n",
       "1   0       0           3   2008  0.000000         1    0.0 ...   4128984.0   \n",
       "2   1       0           1   2008  0.000000         1    0.0 ...   4128984.0   \n",
       "3   1       1           1   2008  0.124902         1    1.0 ...   4128984.0   \n",
       "4   1       1           1   2008  0.124092         1    1.0 ...   4128984.0   \n",
       "\n",
       "   CI_F8_D  CI_F8_O  CI_F9_D   CI_F9_O      P8   P8new      P9     RH1  cat  \n",
       "0  -3000.0  -2000.0  -3000.0 -371168.0 -3000.0 -3000.0 -3000.0 -3000.0    3  \n",
       "1  -3000.0  -2000.0  -3000.0 -371168.0 -3000.0 -3000.0 -3000.0 -3000.0    3  \n",
       "2  -3000.0  -2000.0  -3000.0 -371168.0 -3000.0 -3000.0 -3000.0 -3000.0    3  \n",
       "3  -3000.0  -2000.0  -3000.0 -371168.0 -3000.0 -3000.0 -3000.0 -3000.0    3  \n",
       "4  -3000.0  -2000.0  -3000.0 -371168.0 -3000.0 -3000.0 -3000.0 -3000.0    3  \n",
       "\n",
       "[5 rows x 95 columns]"
      ]
     },
     "execution_count": 7,
     "metadata": {},
     "output_type": "execute_result"
    }
   ],
   "source": [
    "merged_data = train.merge(additional_data, on=['finess', 'annee'])\n",
    "merged_data.head()"
   ]
  },
  {
   "cell_type": "code",
   "execution_count": 8,
   "metadata": {
    "collapsed": false
   },
   "outputs": [
    {
     "data": {
      "text/plain": [
       "310"
      ]
     },
     "execution_count": 8,
     "metadata": {},
     "output_type": "execute_result"
    }
   ],
   "source": [
    "del train\n",
    "del additional_data\n",
    "gc.collect()"
   ]
  },
  {
   "cell_type": "code",
   "execution_count": 9,
   "metadata": {
    "collapsed": false
   },
   "outputs": [
    {
     "data": {
      "text/html": [
       "<div>\n",
       "<table border=\"1\" class=\"dataframe\">\n",
       "  <thead>\n",
       "    <tr style=\"text-align: right;\">\n",
       "      <th></th>\n",
       "      <th>finess</th>\n",
       "      <th>Dept</th>\n",
       "      <th>Activite</th>\n",
       "      <th>Age</th>\n",
       "      <th>Nb_MCO</th>\n",
       "      <th>Nb_Sejours</th>\n",
       "      <th>annee</th>\n",
       "      <th>Target</th>\n",
       "      <th>RS_prive</th>\n",
       "      <th>ratio</th>\n",
       "      <th>...</th>\n",
       "      <th>CI_F7_O</th>\n",
       "      <th>CI_F8_D</th>\n",
       "      <th>CI_F8_O</th>\n",
       "      <th>CI_F9_D</th>\n",
       "      <th>CI_F9_O</th>\n",
       "      <th>P8</th>\n",
       "      <th>P8new</th>\n",
       "      <th>P9</th>\n",
       "      <th>RH1</th>\n",
       "      <th>cat</th>\n",
       "    </tr>\n",
       "  </thead>\n",
       "  <tbody>\n",
       "    <tr>\n",
       "      <th>0</th>\n",
       "      <td>280000449</td>\n",
       "      <td>78</td>\n",
       "      <td>16</td>\n",
       "      <td>0</td>\n",
       "      <td>0</td>\n",
       "      <td>1</td>\n",
       "      <td>2008</td>\n",
       "      <td>0.000000</td>\n",
       "      <td>1</td>\n",
       "      <td>0.0</td>\n",
       "      <td>...</td>\n",
       "      <td>4128984.0</td>\n",
       "      <td>-3000.0</td>\n",
       "      <td>-2000.0</td>\n",
       "      <td>-3000.0</td>\n",
       "      <td>-371168.0</td>\n",
       "      <td>-3000.0</td>\n",
       "      <td>-3000.0</td>\n",
       "      <td>-3000.0</td>\n",
       "      <td>-3000.0</td>\n",
       "      <td>3</td>\n",
       "    </tr>\n",
       "    <tr>\n",
       "      <th>1</th>\n",
       "      <td>280000449</td>\n",
       "      <td>78</td>\n",
       "      <td>17</td>\n",
       "      <td>0</td>\n",
       "      <td>0</td>\n",
       "      <td>3</td>\n",
       "      <td>2008</td>\n",
       "      <td>0.000000</td>\n",
       "      <td>1</td>\n",
       "      <td>0.0</td>\n",
       "      <td>...</td>\n",
       "      <td>4128984.0</td>\n",
       "      <td>-3000.0</td>\n",
       "      <td>-2000.0</td>\n",
       "      <td>-3000.0</td>\n",
       "      <td>-371168.0</td>\n",
       "      <td>-3000.0</td>\n",
       "      <td>-3000.0</td>\n",
       "      <td>-3000.0</td>\n",
       "      <td>-3000.0</td>\n",
       "      <td>3</td>\n",
       "    </tr>\n",
       "    <tr>\n",
       "      <th>2</th>\n",
       "      <td>280000449</td>\n",
       "      <td>78</td>\n",
       "      <td>17</td>\n",
       "      <td>1</td>\n",
       "      <td>0</td>\n",
       "      <td>1</td>\n",
       "      <td>2008</td>\n",
       "      <td>0.000000</td>\n",
       "      <td>1</td>\n",
       "      <td>0.0</td>\n",
       "      <td>...</td>\n",
       "      <td>4128984.0</td>\n",
       "      <td>-3000.0</td>\n",
       "      <td>-2000.0</td>\n",
       "      <td>-3000.0</td>\n",
       "      <td>-371168.0</td>\n",
       "      <td>-3000.0</td>\n",
       "      <td>-3000.0</td>\n",
       "      <td>-3000.0</td>\n",
       "      <td>-3000.0</td>\n",
       "      <td>3</td>\n",
       "    </tr>\n",
       "    <tr>\n",
       "      <th>3</th>\n",
       "      <td>280000449</td>\n",
       "      <td>78</td>\n",
       "      <td>21</td>\n",
       "      <td>1</td>\n",
       "      <td>1</td>\n",
       "      <td>1</td>\n",
       "      <td>2008</td>\n",
       "      <td>0.124902</td>\n",
       "      <td>1</td>\n",
       "      <td>1.0</td>\n",
       "      <td>...</td>\n",
       "      <td>4128984.0</td>\n",
       "      <td>-3000.0</td>\n",
       "      <td>-2000.0</td>\n",
       "      <td>-3000.0</td>\n",
       "      <td>-371168.0</td>\n",
       "      <td>-3000.0</td>\n",
       "      <td>-3000.0</td>\n",
       "      <td>-3000.0</td>\n",
       "      <td>-3000.0</td>\n",
       "      <td>3</td>\n",
       "    </tr>\n",
       "    <tr>\n",
       "      <th>4</th>\n",
       "      <td>280000449</td>\n",
       "      <td>78</td>\n",
       "      <td>24</td>\n",
       "      <td>1</td>\n",
       "      <td>1</td>\n",
       "      <td>1</td>\n",
       "      <td>2008</td>\n",
       "      <td>0.124092</td>\n",
       "      <td>1</td>\n",
       "      <td>1.0</td>\n",
       "      <td>...</td>\n",
       "      <td>4128984.0</td>\n",
       "      <td>-3000.0</td>\n",
       "      <td>-2000.0</td>\n",
       "      <td>-3000.0</td>\n",
       "      <td>-371168.0</td>\n",
       "      <td>-3000.0</td>\n",
       "      <td>-3000.0</td>\n",
       "      <td>-3000.0</td>\n",
       "      <td>-3000.0</td>\n",
       "      <td>3</td>\n",
       "    </tr>\n",
       "  </tbody>\n",
       "</table>\n",
       "<p>5 rows × 95 columns</p>\n",
       "</div>"
      ],
      "text/plain": [
       "      finess  Dept  Activite Age  Nb_MCO  Nb_Sejours  annee    Target  \\\n",
       "0  280000449    78        16   0       0           1   2008  0.000000   \n",
       "1  280000449    78        17   0       0           3   2008  0.000000   \n",
       "2  280000449    78        17   1       0           1   2008  0.000000   \n",
       "3  280000449    78        21   1       1           1   2008  0.124902   \n",
       "4  280000449    78        24   1       1           1   2008  0.124092   \n",
       "\n",
       "   RS_prive  ratio ...     CI_F7_O  CI_F8_D  CI_F8_O  CI_F9_D   CI_F9_O  \\\n",
       "0         1    0.0 ...   4128984.0  -3000.0  -2000.0  -3000.0 -371168.0   \n",
       "1         1    0.0 ...   4128984.0  -3000.0  -2000.0  -3000.0 -371168.0   \n",
       "2         1    0.0 ...   4128984.0  -3000.0  -2000.0  -3000.0 -371168.0   \n",
       "3         1    1.0 ...   4128984.0  -3000.0  -2000.0  -3000.0 -371168.0   \n",
       "4         1    1.0 ...   4128984.0  -3000.0  -2000.0  -3000.0 -371168.0   \n",
       "\n",
       "       P8   P8new      P9     RH1  cat  \n",
       "0 -3000.0 -3000.0 -3000.0 -3000.0    3  \n",
       "1 -3000.0 -3000.0 -3000.0 -3000.0    3  \n",
       "2 -3000.0 -3000.0 -3000.0 -3000.0    3  \n",
       "3 -3000.0 -3000.0 -3000.0 -3000.0    3  \n",
       "4 -3000.0 -3000.0 -3000.0 -3000.0    3  \n",
       "\n",
       "[5 rows x 95 columns]"
      ]
     },
     "execution_count": 9,
     "metadata": {},
     "output_type": "execute_result"
    }
   ],
   "source": [
    "le = preprocessing.LabelEncoder()\n",
    "merged_data.Activite = le.fit_transform(merged_data.Activite)\n",
    "merged_data.cat = le.fit_transform(merged_data.cat)\n",
    "merged_data.Dept = le.fit_transform(merged_data.Dept)\n",
    "merged_data.head()"
   ]
  },
  {
   "cell_type": "code",
   "execution_count": 10,
   "metadata": {
    "collapsed": false
   },
   "outputs": [
    {
     "data": {
      "text/plain": [
       "(216111, 95)"
      ]
     },
     "execution_count": 10,
     "metadata": {},
     "output_type": "execute_result"
    }
   ],
   "source": [
    "merged_data.loc[merged_data.Nb_MCO == 0].shape"
   ]
  },
  {
   "cell_type": "markdown",
   "metadata": {
    "collapsed": false
   },
   "source": [
    "<h2> 2. Split des données </h2>"
   ]
  },
  {
   "cell_type": "code",
   "execution_count": 11,
   "metadata": {
    "collapsed": false
   },
   "outputs": [],
   "source": [
    "N_split = int(round(len(merged_data)*0.80))\n",
    "\n",
    "df_train = merged_data.iloc[:N_split]\n",
    "df_test = merged_data.iloc[N_split:]\n",
    "\n",
    "ytrain = df_train['Target']\n",
    "ytest = df_test['Target']\n",
    "\n",
    "df_train = df_train.drop('Target', axis=1)\n",
    "df_train = df_train.drop('finess', axis=1)\n",
    "\n",
    "df_test = df_test.drop('Target', axis=1)\n",
    "df_test = df_test.drop('finess', axis=1)"
   ]
  },
  {
   "cell_type": "code",
   "execution_count": 12,
   "metadata": {
    "collapsed": false
   },
   "outputs": [],
   "source": [
    "#del merged_data\n",
    "#gc.collect()"
   ]
  },
  {
   "cell_type": "markdown",
   "metadata": {
    "slideshow": {
     "slide_type": "-"
    }
   },
   "source": [
    "## 3. Imputation des données manquantes"
   ]
  },
  {
   "cell_type": "code",
   "execution_count": 13,
   "metadata": {
    "collapsed": false
   },
   "outputs": [],
   "source": [
    "# Traitement des variables manquantes\n",
    "imputer = preprocessing.Imputer()\n",
    "xtrain = imputer.fit_transform(df_train)\n",
    "xtest = imputer.transform(df_test)"
   ]
  },
  {
   "cell_type": "markdown",
   "metadata": {},
   "source": [
    "## 4. Random Forest"
   ]
  },
  {
   "cell_type": "code",
   "execution_count": 17,
   "metadata": {
    "collapsed": true
   },
   "outputs": [],
   "source": [
    "# Nombre d'arbres à tester\n",
    "params = [i for i in range(1,30,2)]"
   ]
  },
  {
   "cell_type": "code",
   "execution_count": 20,
   "metadata": {
    "collapsed": true
   },
   "outputs": [],
   "source": [
    "# Méthode permettant l'entraînement et l'évaluation des modèles, ainsi que l'affichage des résultats\n",
    "def show_errors(X_train, y_train, X_valid, y_valid, criterion, error) :\n",
    "    train_scores = []\n",
    "    validation_scores = []\n",
    "    j = 0\n",
    "    \n",
    "    for i in params:\n",
    "        regressor = RandomForestRegressor(n_estimators=20, max_depth = i, n_jobs=-1, criterion='mse') \n",
    "        regressor.fit(X_train, y_train)\n",
    "\n",
    "        # CHANGER LE CALCUL DES SCORES !!!\n",
    "        train_scores.append(sqrt(mean_squared_error(regressor.predict(X_train), y_train)))\n",
    "        validation_scores.append(sqrt(mean_squared_error(regressor.predict(X_valid), y_valid)))\n",
    "        print(i)\n",
    "        print('training set: ', train_scores[j])\n",
    "        print('validation set: ', validation_scores[j])\n",
    "        j = j + 1\n",
    "    \n",
    "    # Visualisation des résultats\n",
    "    plt.figure(figsize=(15,8))\n",
    "\n",
    "    plt.plot(params, train_scores, c='b') \n",
    "    plt.plot(params, validation_scores, c='r') \n",
    "    \n",
    "    plt.title(\"%s en fonction du nombre d'arbres\" % error)\n",
    "    plt.xlabel(\"Profondeur maximale de l'arbre\")\n",
    "    plt.ylabel(\"%s\" % error)\n",
    "    plt.legend([\"Apprentissage\", \"Validation\"], loc='upper right')\n",
    "\n",
    "    plt.show()\n",
    "    \n",
    "    return validation_scores "
   ]
  },
  {
   "cell_type": "code",
   "execution_count": 21,
   "metadata": {
    "collapsed": false
   },
   "outputs": [
    {
     "name": "stdout",
     "output_type": "stream",
     "text": [
      "1\n",
      "training set:  0.0713502820037\n",
      "validation set:  0.086146562904\n",
      "3\n",
      "training set:  0.0447328172191\n",
      "validation set:  0.0589961778932\n",
      "5\n",
      "training set:  0.0362104816164\n",
      "validation set:  0.0512403569607\n",
      "7\n",
      "training set:  0.0292492185758\n",
      "validation set:  0.0471782472014\n",
      "9\n",
      "training set:  0.0230642486524\n",
      "validation set:  0.0478842034804\n",
      "11\n",
      "training set:  0.0170250134493\n",
      "validation set:  0.0478961710433\n",
      "13\n",
      "training set:  0.0123362640025\n",
      "validation set:  0.0477394521207\n",
      "15\n",
      "training set:  0.00864069337382\n",
      "validation set:  0.0464506188076\n",
      "17\n",
      "training set:  0.00679329608519\n",
      "validation set:  0.0464789126703\n",
      "19\n",
      "training set:  0.00576053513548\n",
      "validation set:  0.0459440765017\n",
      "21\n",
      "training set:  0.00518768221482\n",
      "validation set:  0.0469384510133\n",
      "23\n",
      "training set:  0.00487892299948\n",
      "validation set:  0.0470183676094\n",
      "25\n",
      "training set:  0.00469787124407\n",
      "validation set:  0.0467347827663\n",
      "27\n",
      "training set:  0.00460520465245\n",
      "validation set:  0.0470860405557\n",
      "29\n",
      "training set:  0.00458960139956\n",
      "validation set:  0.0473403601609\n"
     ]
    },
    {
     "data": {
      "image/png": "[encoded data removed]",
      "text/plain": [
       "<matplotlib.figure.Figure at 0x117432be0>"
      ]
     },
     "metadata": {},
     "output_type": "display_data"
    }
   ],
   "source": [
    "temp = show_errors(xtrain, ytrain, xtest, ytest, \"mse\", \"Mean Squared Error\")"
   ]
  },
  {
   "cell_type": "code",
   "execution_count": 22,
   "metadata": {
    "collapsed": false
   },
   "outputs": [
    {
     "data": {
      "text/plain": [
       "RandomForestRegressor(bootstrap=True, criterion='mse', max_depth=19,\n",
       "           max_features='auto', max_leaf_nodes=None, min_samples_leaf=1,\n",
       "           min_samples_split=2, min_weight_fraction_leaf=0.0,\n",
       "           n_estimators=50, n_jobs=-1, oob_score=False, random_state=None,\n",
       "           verbose=0, warm_start=False)"
      ]
     },
     "execution_count": 22,
     "metadata": {},
     "output_type": "execute_result"
    }
   ],
   "source": [
    "rd = RandomForestRegressor(n_estimators=50, max_depth=19, n_jobs=-1)\n",
    "rd.fit(xtrain,ytrain)"
   ]
  },
  {
   "cell_type": "code",
   "execution_count": 23,
   "metadata": {
    "collapsed": false
   },
   "outputs": [
    {
     "name": "stdout",
     "output_type": "stream",
     "text": [
      "rmse:      0.04608155929572711\n"
     ]
    }
   ],
   "source": [
    "rd_preds = rd.predict(xtest)\n",
    "print(\"rmse:      {}\".format(sqrt(mean_squared_error(ytest, rd_preds))))"
   ]
  },
  {
   "cell_type": "code",
   "execution_count": 24,
   "metadata": {
    "collapsed": false
   },
   "outputs": [
    {
     "data": {
      "image/png": "[encoded data removed]",
      "text/plain": [
       "<matplotlib.figure.Figure at 0x11748ff28>"
      ]
     },
     "metadata": {},
     "output_type": "display_data"
    }
   ],
   "source": [
    "# sort importances\n",
    "plt.figure(figsize=(16,9))\n",
    "features_names = merged_data.drop('Target', axis=1).columns.values\n",
    "indices = np.argsort(rd.feature_importances_)[::-1]\n",
    "indices = indices[:10]\n",
    "# plot as bar chart\n",
    "plt.barh(np.arange(10), rd.feature_importances_[indices])\n",
    "plt.yticks(np.arange(10) + 0.25, np.array(features_names)[indices])\n",
    "_ = plt.xlabel('Relative importance')"
   ]
  },
  {
   "cell_type": "markdown",
   "metadata": {},
   "source": [
    "without dummies & 100 trees => rmse: 0.061686654295611515 <br>\n",
    "with dummies & 100 trees => rmse: 0.06043873775392981"
   ]
  },
  {
   "cell_type": "markdown",
   "metadata": {},
   "source": [
    "## 6. Gradient Boosted Machines"
   ]
  },
  {
   "cell_type": "code",
   "execution_count": 30,
   "metadata": {
    "collapsed": false
   },
   "outputs": [
    {
     "data": {
      "text/plain": [
       "GradientBoostingRegressor(alpha=0.9, init=None, learning_rate=0.1, loss='ls',\n",
       "             max_depth=3, max_features=None, max_leaf_nodes=None,\n",
       "             min_samples_leaf=1, min_samples_split=2,\n",
       "             min_weight_fraction_leaf=0.0, n_estimators=100,\n",
       "             presort='auto', random_state=None, subsample=1.0, verbose=0,\n",
       "             warm_start=False)"
      ]
     },
     "execution_count": 30,
     "metadata": {},
     "output_type": "execute_result"
    }
   ],
   "source": [
    "gbm = GradientBoostingRegressor()\n",
    "gbm.fit(xtrain,ytrain)"
   ]
  },
  {
   "cell_type": "code",
   "execution_count": 31,
   "metadata": {
    "collapsed": false
   },
   "outputs": [
    {
     "name": "stdout",
     "output_type": "stream",
     "text": [
      "rmse:      0.052154834769668486\n"
     ]
    }
   ],
   "source": [
    "gbm_preds = gbm.predict(xtest)\n",
    "print(\"rmse:      {}\".format(sqrt(mean_squared_error(ytest, gbm_preds))))"
   ]
  },
  {
   "cell_type": "code",
   "execution_count": null,
   "metadata": {
    "collapsed": true
   },
   "outputs": [],
   "source": []
  }
 ],
 "metadata": {
  "anaconda-cloud": {},
  "kernelspec": {
   "display_name": "Python 3",
   "language": "python",
   "name": "python3"
  },
  "language_info": {
   "codemirror_mode": {
    "name": "ipython",
    "version": 3
   },
   "file_extension": ".py",
   "mimetype": "text/x-python",
   "name": "python",
   "nbconvert_exporter": "python",
   "pygments_lexer": "ipython3",
   "version": "3.5.2"
  }
 },
 "nbformat": 4,
 "nbformat_minor": 0
}
