{
 "cells": [
  {
   "cell_type": "markdown",
   "metadata": {},
   "source": [
    "# Challenge ANAP"
   ]
  },
  {
   "cell_type": "markdown",
   "metadata": {},
   "source": [
    "Quelques pistes pour exploiter le fichier `data2.csv`"
   ]
  },
  {
   "cell_type": "code",
   "execution_count": 9,
   "metadata": {
    "collapsed": false
   },
   "outputs": [],
   "source": [
    "import os \n",
    "data_folder = os.getcwd()"
   ]
  },
  {
   "cell_type": "code",
   "execution_count": 2,
   "metadata": {
    "collapsed": false
   },
   "outputs": [],
   "source": [
    "import pandas as pd\n",
    "train_data = pd.read_csv(os.path.join(data_folder, 'data2.csv'), sep=';', low_memory=False, encoding='latin-1')\n",
    "test_data = pd.read_csv(os.path.join(data_folder, 'test2.csv'), sep=';', low_memory=False, encoding='latin-1')"
   ]
  },
  {
   "cell_type": "code",
   "execution_count": 3,
   "metadata": {
    "collapsed": false
   },
   "outputs": [],
   "source": [
    "target = train_data['cible1']\n",
    "train_data.drop('cible1', inplace=True, axis=1)\n",
    "piv_train = train_data.shape[0]\n",
    "\n",
    "train_data.columns = ['finess', 'Raison sociale', 'Provenance des patients (département)',\n",
    "       'Domaines d activités', 'âge (deux classes >75 ans, <= 75 ans)',\n",
    "       'Nombre de séjours/séances MCO des patients en ALD',\n",
    "       'Nombre total de séjours/séances', 'annee']\n",
    "\n",
    "test_data.columns = ['finess', 'Raison sociale', 'Provenance des patients (département)',\n",
    "       'Domaines d activités', 'âge (deux classes >75 ans, <= 75 ans)',\n",
    "       'Nombre de séjours/séances MCO des patients en ALD',\n",
    "       'Nombre total de séjours/séances', 'annee']"
   ]
  },
  {
   "cell_type": "code",
   "execution_count": 4,
   "metadata": {
    "collapsed": false
   },
   "outputs": [
    {
     "data": {
      "text/plain": [
       "(1048575, 8)"
      ]
     },
     "execution_count": 4,
     "metadata": {},
     "output_type": "execute_result"
    }
   ],
   "source": [
    "train_data.shape"
   ]
  },
  {
   "cell_type": "markdown",
   "metadata": {},
   "source": [
    "### Processing the categorical variables "
   ]
  },
  {
   "cell_type": "markdown",
   "metadata": {},
   "source": [
    "#### One-hot-Encoding"
   ]
  },
  {
   "cell_type": "code",
   "execution_count": 113,
   "metadata": {
    "collapsed": false
   },
   "outputs": [],
   "source": [
    "import numpy as np\n",
    "#First set : merge test and train data to get the same processing \n",
    "df_all_1 = pd.concat((train_data, test_data), axis=0, ignore_index=True)\n",
    "\n",
    "# define the categorical columns \n",
    "numerics = ['int16', 'int32', 'int64', 'float16', 'float32', 'float64']\n",
    "non_numeric_columns = df_all_1.select_dtypes(exclude=numerics).columns.difference(['finess', 'Raison sociale' ])\n",
    "\n",
    "# Mapping the categorical columns to numerical using one-hot-encoding \n",
    "for col in non_numeric_columns : \n",
    "    col_dummy = pd.get_dummies(df_all_1[col]).astype(np.int8)\n",
    "    df_all_1 = pd.concat([df_all_1, col_dummy], axis=1)\n",
    "    df_all_1.drop(col, axis=1, inplace=True)\n",
    "    del col_dummy\n",
    "\n",
    "# Recreate train / test\n",
    "train_oe, test_oe = df_all_1[:piv_train], df_all_1[piv_train:]"
   ]
  },
  {
   "cell_type": "markdown",
   "metadata": {},
   "source": [
    "#### Label Encoder "
   ]
  },
  {
   "cell_type": "code",
   "execution_count": 114,
   "metadata": {
    "collapsed": true
   },
   "outputs": [],
   "source": [
    "from sklearn.preprocessing import Imputer, LabelEncoder\n",
    "df_all_2 = pd.concat((train_data, test_data), axis=0, ignore_index=True)\n",
    "\n",
    "# Mapping the categorical columns to numerical classes \n",
    "le = LabelEncoder()\n",
    "for col in non_numeric_columns : \n",
    "        df_all_2[col] = le.fit_transform(df_all_2[col])\n",
    "        \n",
    "# Recreate train / test\n",
    "train_le, test_le = df_all_2[:piv_train], df_all_2[piv_train:]"
   ]
  },
  {
   "cell_type": "code",
   "execution_count": 115,
   "metadata": {
    "collapsed": false
   },
   "outputs": [
    {
     "data": {
      "text/plain": [
       "Index(['Domaines d activités', 'Provenance des patients (département)',\n",
       "       'âge (deux classes >75 ans, <= 75 ans)'],\n",
       "      dtype='object')"
      ]
     },
     "execution_count": 115,
     "metadata": {},
     "output_type": "execute_result"
    }
   ],
   "source": [
    "non_numeric_columns"
   ]
  },
  {
   "cell_type": "markdown",
   "metadata": {},
   "source": [
    "#### Hash encoder "
   ]
  },
  {
   "cell_type": "code",
   "execution_count": 117,
   "metadata": {
    "collapsed": true
   },
   "outputs": [],
   "source": [
    "def hash_function(modalites): \n",
    "    return [hash(m) % 2000000 for m in modalities]"
   ]
  },
  {
   "cell_type": "code",
   "execution_count": 118,
   "metadata": {
    "collapsed": false
   },
   "outputs": [],
   "source": [
    "from sklearn.preprocessing import Imputer, LabelEncoder\n",
    "df_all_3 = pd.concat((train_data, test_data), axis=0, ignore_index=True)\n",
    "\n",
    "# Mapping the categorical columns to numerical classes \n",
    "for col in non_numeric_columns : \n",
    "        modalities = df_all_3[col]\n",
    "        df_all_3[col] = hash_function(modalities)\n",
    "        \n",
    "# Recreate train / test\n",
    "train_he, test_he = df_all_3[:piv_train], df_all_3[piv_train:]"
   ]
  },
  {
   "cell_type": "code",
   "execution_count": 81,
   "metadata": {
    "collapsed": false
   },
   "outputs": [],
   "source": [
    "# check if there are some collisions \n",
    "for col in non_numeric_columns:\n",
    "    if train_he[col].nunique() != train_data[col].nunique():\n",
    "        print('encoding fail')"
   ]
  },
  {
   "cell_type": "markdown",
   "metadata": {},
   "source": [
    "#### Aggregate the three data reprensations  "
   ]
  },
  {
   "cell_type": "code",
   "execution_count": 121,
   "metadata": {
    "collapsed": false
   },
   "outputs": [],
   "source": [
    "df = {\n",
    "    'hash-encoding' : [train_he.drop(['finess', 'Raison sociale'], axis=1), test_he],\n",
    "    'Label-encoding' : [train_le.drop(['finess', 'Raison sociale'], axis=1), test_le],\n",
    "    'one-hot-encoding' : [train_oe.drop(['finess', 'Raison sociale'], axis=1), test_oe]\n",
    "}"
   ]
  },
  {
   "cell_type": "markdown",
   "metadata": {},
   "source": [
    "### Classification task : "
   ]
  },
  {
   "cell_type": "markdown",
   "metadata": {},
   "source": [
    "#### Random forest : "
   ]
  },
  {
   "cell_type": "code",
   "execution_count": 130,
   "metadata": {
    "collapsed": true
   },
   "outputs": [],
   "source": [
    "from sklearn.ensemble import RandomForestRegressor\n",
    "from sklearn.cross_validation import train_test_split, cross_val_score\n",
    "from sklearn import metrics"
   ]
  },
  {
   "cell_type": "code",
   "execution_count": 138,
   "metadata": {
    "collapsed": false
   },
   "outputs": [],
   "source": [
    "def training_benchmark(clf, X, y): \n",
    "    scores = np.sqrt(np.abs(cross_val_score(clf, X, y, scoring='mean_squared_error', cv=5, n_jobs=-1)))\n",
    "    return scores.mean()"
   ]
  },
  {
   "cell_type": "code",
   "execution_count": 132,
   "metadata": {
    "collapsed": false
   },
   "outputs": [
    {
     "data": {
      "text/plain": [
       "0.047934019166062783"
      ]
     },
     "execution_count": 132,
     "metadata": {},
     "output_type": "execute_result"
    }
   ],
   "source": [
    "training_benchmark(RandomForestRegressor(), df['hash-encoding'][0], target)"
   ]
  },
  {
   "cell_type": "code",
   "execution_count": 133,
   "metadata": {
    "collapsed": false,
    "scrolled": true
   },
   "outputs": [
    {
     "data": {
      "text/plain": [
       "0.047863614549113961"
      ]
     },
     "execution_count": 133,
     "metadata": {},
     "output_type": "execute_result"
    }
   ],
   "source": [
    "training_benchmark(RandomForestRegressor(), df['Label-encoding'][0], target)"
   ]
  },
  {
   "cell_type": "code",
   "execution_count": 134,
   "metadata": {
    "collapsed": false
   },
   "outputs": [
    {
     "data": {
      "text/plain": [
       "0.046931932908946462"
      ]
     },
     "execution_count": 134,
     "metadata": {},
     "output_type": "execute_result"
    }
   ],
   "source": [
    "training_benchmark(RandomForestRegressor(), df['one-hot-encoding'][0], target)"
   ]
  },
  {
   "cell_type": "markdown",
   "metadata": {},
   "source": [
    "#### Gradient boosting :"
   ]
  },
  {
   "cell_type": "code",
   "execution_count": 139,
   "metadata": {
    "collapsed": false
   },
   "outputs": [],
   "source": [
    "from sklearn.ensemble import GradientBoostingRegressor\n",
    "clf = GradientBoostingRegressor(n_estimators=500, max_depth=5, random_state=42, \n",
    "                                learning_rate=0.01, min_samples_split=100, subsample=0.8)"
   ]
  },
  {
   "cell_type": "code",
   "execution_count": 140,
   "metadata": {
    "collapsed": false
   },
   "outputs": [
    {
     "data": {
      "text/plain": [
       "0.044713055405507497"
      ]
     },
     "execution_count": 140,
     "metadata": {},
     "output_type": "execute_result"
    }
   ],
   "source": [
    "training_benchmark(clf, df['hash-encoding'][0], target)"
   ]
  },
  {
   "cell_type": "code",
   "execution_count": 141,
   "metadata": {
    "collapsed": false
   },
   "outputs": [
    {
     "data": {
      "text/plain": [
       "0.044758623891831814"
      ]
     },
     "execution_count": 141,
     "metadata": {},
     "output_type": "execute_result"
    }
   ],
   "source": [
    "training_benchmark(clf, df['Label-encoding'][0], target)"
   ]
  },
  {
   "cell_type": "code",
   "execution_count": 142,
   "metadata": {
    "collapsed": false
   },
   "outputs": [
    {
     "data": {
      "text/plain": [
       "0.044749014471170488"
      ]
     },
     "execution_count": 142,
     "metadata": {},
     "output_type": "execute_result"
    }
   ],
   "source": [
    "training_benchmark(clf, df['one-hot-encoding'][0], target)"
   ]
  },
  {
   "cell_type": "markdown",
   "metadata": {},
   "source": [
    "#### Linear regression"
   ]
  },
  {
   "cell_type": "code",
   "execution_count": 150,
   "metadata": {
    "collapsed": false
   },
   "outputs": [],
   "source": [
    "from sklearn.linear_model import Lasso\n",
    "lr = Lasso(random_state=42)"
   ]
  },
  {
   "cell_type": "code",
   "execution_count": 151,
   "metadata": {
    "collapsed": false
   },
   "outputs": [
    {
     "data": {
      "text/plain": [
       "0.14821722439913218"
      ]
     },
     "execution_count": 151,
     "metadata": {},
     "output_type": "execute_result"
    }
   ],
   "source": [
    "training_benchmark(lr, df['hash-encoding'][0], target)"
   ]
  },
  {
   "cell_type": "code",
   "execution_count": 152,
   "metadata": {
    "collapsed": false
   },
   "outputs": [
    {
     "data": {
      "text/plain": [
       "0.15521217687086372"
      ]
     },
     "execution_count": 152,
     "metadata": {},
     "output_type": "execute_result"
    }
   ],
   "source": [
    "training_benchmark(lr, df['Label-encoding'][0], target)"
   ]
  },
  {
   "cell_type": "code",
   "execution_count": 154,
   "metadata": {
    "collapsed": false
   },
   "outputs": [
    {
     "data": {
      "text/plain": [
       "0.15521217687086372"
      ]
     },
     "execution_count": 154,
     "metadata": {},
     "output_type": "execute_result"
    }
   ],
   "source": [
    "training_benchmark(lr, df['one-hot-encoding'][0], target)"
   ]
  }
 ],
 "metadata": {
  "anaconda-cloud": {},
  "kernelspec": {
   "display_name": "Python 3",
   "language": "python",
   "name": "python3"
  },
  "language_info": {
   "codemirror_mode": {
    "name": "ipython",
    "version": 3
   },
   "file_extension": ".py",
   "mimetype": "text/x-python",
   "name": "python",
   "nbconvert_exporter": "python",
   "pygments_lexer": "ipython3",
   "version": "3.5.2"
  }
 },
 "nbformat": 4,
 "nbformat_minor": 2
}
